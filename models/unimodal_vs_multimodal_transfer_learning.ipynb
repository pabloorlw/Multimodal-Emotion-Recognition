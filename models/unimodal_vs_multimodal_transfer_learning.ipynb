{
  "nbformat": 4,
  "nbformat_minor": 0,
  "metadata": {
    "colab": {
      "provenance": [],
      "gpuType": "T4",
      "toc_visible": true
    },
    "kernelspec": {
      "name": "python3",
      "display_name": "Python 3"
    },
    "language_info": {
      "name": "python"
    },
    "accelerator": "GPU",
    "widgets": {
      "application/vnd.jupyter.widget-state+json": {
        "6de562e5bac24be6a4b0d6223d3d591c": {
          "model_module": "@jupyter-widgets/controls",
          "model_name": "HBoxModel",
          "model_module_version": "1.5.0",
          "state": {
            "_dom_classes": [],
            "_model_module": "@jupyter-widgets/controls",
            "_model_module_version": "1.5.0",
            "_model_name": "HBoxModel",
            "_view_count": null,
            "_view_module": "@jupyter-widgets/controls",
            "_view_module_version": "1.5.0",
            "_view_name": "HBoxView",
            "box_style": "",
            "children": [
              "IPY_MODEL_4f95ea87008d4e18b96ba019f7976fe4",
              "IPY_MODEL_c0d32552a44843bda27a610208139de6",
              "IPY_MODEL_92e7f66218864fa5abe4f625933302e2"
            ],
            "layout": "IPY_MODEL_c06fb644c9ec44249813979081454bcb"
          }
        },
        "4f95ea87008d4e18b96ba019f7976fe4": {
          "model_module": "@jupyter-widgets/controls",
          "model_name": "HTMLModel",
          "model_module_version": "1.5.0",
          "state": {
            "_dom_classes": [],
            "_model_module": "@jupyter-widgets/controls",
            "_model_module_version": "1.5.0",
            "_model_name": "HTMLModel",
            "_view_count": null,
            "_view_module": "@jupyter-widgets/controls",
            "_view_module_version": "1.5.0",
            "_view_name": "HTMLView",
            "description": "",
            "description_tooltip": null,
            "layout": "IPY_MODEL_5231073f472f4dacb92c5d67358ae9b0",
            "placeholder": "​",
            "style": "IPY_MODEL_de5cfe64e05942b18c3498d467133a30",
            "value": "MELD_text.zip: 100%"
          }
        },
        "c0d32552a44843bda27a610208139de6": {
          "model_module": "@jupyter-widgets/controls",
          "model_name": "FloatProgressModel",
          "model_module_version": "1.5.0",
          "state": {
            "_dom_classes": [],
            "_model_module": "@jupyter-widgets/controls",
            "_model_module_version": "1.5.0",
            "_model_name": "FloatProgressModel",
            "_view_count": null,
            "_view_module": "@jupyter-widgets/controls",
            "_view_module_version": "1.5.0",
            "_view_name": "ProgressView",
            "bar_style": "success",
            "description": "",
            "description_tooltip": null,
            "layout": "IPY_MODEL_dd1a92346c8148999d5e6ad37d1480be",
            "max": 514257,
            "min": 0,
            "orientation": "horizontal",
            "style": "IPY_MODEL_300773ed83894ace803a372381913d7b",
            "value": 514257
          }
        },
        "92e7f66218864fa5abe4f625933302e2": {
          "model_module": "@jupyter-widgets/controls",
          "model_name": "HTMLModel",
          "model_module_version": "1.5.0",
          "state": {
            "_dom_classes": [],
            "_model_module": "@jupyter-widgets/controls",
            "_model_module_version": "1.5.0",
            "_model_name": "HTMLModel",
            "_view_count": null,
            "_view_module": "@jupyter-widgets/controls",
            "_view_module_version": "1.5.0",
            "_view_name": "HTMLView",
            "description": "",
            "description_tooltip": null,
            "layout": "IPY_MODEL_7176f575d3014a2b836ddd315b1fe28f",
            "placeholder": "​",
            "style": "IPY_MODEL_2bdf80a5d49c4007a8cb69f57a697fac",
            "value": " 514k/514k [00:00&lt;00:00, 10.5MB/s]"
          }
        },
        "c06fb644c9ec44249813979081454bcb": {
          "model_module": "@jupyter-widgets/base",
          "model_name": "LayoutModel",
          "model_module_version": "1.2.0",
          "state": {
            "_model_module": "@jupyter-widgets/base",
            "_model_module_version": "1.2.0",
            "_model_name": "LayoutModel",
            "_view_count": null,
            "_view_module": "@jupyter-widgets/base",
            "_view_module_version": "1.2.0",
            "_view_name": "LayoutView",
            "align_content": null,
            "align_items": null,
            "align_self": null,
            "border": null,
            "bottom": null,
            "display": null,
            "flex": null,
            "flex_flow": null,
            "grid_area": null,
            "grid_auto_columns": null,
            "grid_auto_flow": null,
            "grid_auto_rows": null,
            "grid_column": null,
            "grid_gap": null,
            "grid_row": null,
            "grid_template_areas": null,
            "grid_template_columns": null,
            "grid_template_rows": null,
            "height": null,
            "justify_content": null,
            "justify_items": null,
            "left": null,
            "margin": null,
            "max_height": null,
            "max_width": null,
            "min_height": null,
            "min_width": null,
            "object_fit": null,
            "object_position": null,
            "order": null,
            "overflow": null,
            "overflow_x": null,
            "overflow_y": null,
            "padding": null,
            "right": null,
            "top": null,
            "visibility": null,
            "width": null
          }
        },
        "5231073f472f4dacb92c5d67358ae9b0": {
          "model_module": "@jupyter-widgets/base",
          "model_name": "LayoutModel",
          "model_module_version": "1.2.0",
          "state": {
            "_model_module": "@jupyter-widgets/base",
            "_model_module_version": "1.2.0",
            "_model_name": "LayoutModel",
            "_view_count": null,
            "_view_module": "@jupyter-widgets/base",
            "_view_module_version": "1.2.0",
            "_view_name": "LayoutView",
            "align_content": null,
            "align_items": null,
            "align_self": null,
            "border": null,
            "bottom": null,
            "display": null,
            "flex": null,
            "flex_flow": null,
            "grid_area": null,
            "grid_auto_columns": null,
            "grid_auto_flow": null,
            "grid_auto_rows": null,
            "grid_column": null,
            "grid_gap": null,
            "grid_row": null,
            "grid_template_areas": null,
            "grid_template_columns": null,
            "grid_template_rows": null,
            "height": null,
            "justify_content": null,
            "justify_items": null,
            "left": null,
            "margin": null,
            "max_height": null,
            "max_width": null,
            "min_height": null,
            "min_width": null,
            "object_fit": null,
            "object_position": null,
            "order": null,
            "overflow": null,
            "overflow_x": null,
            "overflow_y": null,
            "padding": null,
            "right": null,
            "top": null,
            "visibility": null,
            "width": null
          }
        },
        "de5cfe64e05942b18c3498d467133a30": {
          "model_module": "@jupyter-widgets/controls",
          "model_name": "DescriptionStyleModel",
          "model_module_version": "1.5.0",
          "state": {
            "_model_module": "@jupyter-widgets/controls",
            "_model_module_version": "1.5.0",
            "_model_name": "DescriptionStyleModel",
            "_view_count": null,
            "_view_module": "@jupyter-widgets/base",
            "_view_module_version": "1.2.0",
            "_view_name": "StyleView",
            "description_width": ""
          }
        },
        "dd1a92346c8148999d5e6ad37d1480be": {
          "model_module": "@jupyter-widgets/base",
          "model_name": "LayoutModel",
          "model_module_version": "1.2.0",
          "state": {
            "_model_module": "@jupyter-widgets/base",
            "_model_module_version": "1.2.0",
            "_model_name": "LayoutModel",
            "_view_count": null,
            "_view_module": "@jupyter-widgets/base",
            "_view_module_version": "1.2.0",
            "_view_name": "LayoutView",
            "align_content": null,
            "align_items": null,
            "align_self": null,
            "border": null,
            "bottom": null,
            "display": null,
            "flex": null,
            "flex_flow": null,
            "grid_area": null,
            "grid_auto_columns": null,
            "grid_auto_flow": null,
            "grid_auto_rows": null,
            "grid_column": null,
            "grid_gap": null,
            "grid_row": null,
            "grid_template_areas": null,
            "grid_template_columns": null,
            "grid_template_rows": null,
            "height": null,
            "justify_content": null,
            "justify_items": null,
            "left": null,
            "margin": null,
            "max_height": null,
            "max_width": null,
            "min_height": null,
            "min_width": null,
            "object_fit": null,
            "object_position": null,
            "order": null,
            "overflow": null,
            "overflow_x": null,
            "overflow_y": null,
            "padding": null,
            "right": null,
            "top": null,
            "visibility": null,
            "width": null
          }
        },
        "300773ed83894ace803a372381913d7b": {
          "model_module": "@jupyter-widgets/controls",
          "model_name": "ProgressStyleModel",
          "model_module_version": "1.5.0",
          "state": {
            "_model_module": "@jupyter-widgets/controls",
            "_model_module_version": "1.5.0",
            "_model_name": "ProgressStyleModel",
            "_view_count": null,
            "_view_module": "@jupyter-widgets/base",
            "_view_module_version": "1.2.0",
            "_view_name": "StyleView",
            "bar_color": null,
            "description_width": ""
          }
        },
        "7176f575d3014a2b836ddd315b1fe28f": {
          "model_module": "@jupyter-widgets/base",
          "model_name": "LayoutModel",
          "model_module_version": "1.2.0",
          "state": {
            "_model_module": "@jupyter-widgets/base",
            "_model_module_version": "1.2.0",
            "_model_name": "LayoutModel",
            "_view_count": null,
            "_view_module": "@jupyter-widgets/base",
            "_view_module_version": "1.2.0",
            "_view_name": "LayoutView",
            "align_content": null,
            "align_items": null,
            "align_self": null,
            "border": null,
            "bottom": null,
            "display": null,
            "flex": null,
            "flex_flow": null,
            "grid_area": null,
            "grid_auto_columns": null,
            "grid_auto_flow": null,
            "grid_auto_rows": null,
            "grid_column": null,
            "grid_gap": null,
            "grid_row": null,
            "grid_template_areas": null,
            "grid_template_columns": null,
            "grid_template_rows": null,
            "height": null,
            "justify_content": null,
            "justify_items": null,
            "left": null,
            "margin": null,
            "max_height": null,
            "max_width": null,
            "min_height": null,
            "min_width": null,
            "object_fit": null,
            "object_position": null,
            "order": null,
            "overflow": null,
            "overflow_x": null,
            "overflow_y": null,
            "padding": null,
            "right": null,
            "top": null,
            "visibility": null,
            "width": null
          }
        },
        "2bdf80a5d49c4007a8cb69f57a697fac": {
          "model_module": "@jupyter-widgets/controls",
          "model_name": "DescriptionStyleModel",
          "model_module_version": "1.5.0",
          "state": {
            "_model_module": "@jupyter-widgets/controls",
            "_model_module_version": "1.5.0",
            "_model_name": "DescriptionStyleModel",
            "_view_count": null,
            "_view_module": "@jupyter-widgets/base",
            "_view_module_version": "1.2.0",
            "_view_name": "StyleView",
            "description_width": ""
          }
        },
        "b25b49c327244af19d0e6431f80dbfee": {
          "model_module": "@jupyter-widgets/controls",
          "model_name": "HBoxModel",
          "model_module_version": "1.5.0",
          "state": {
            "_dom_classes": [],
            "_model_module": "@jupyter-widgets/controls",
            "_model_module_version": "1.5.0",
            "_model_name": "HBoxModel",
            "_view_count": null,
            "_view_module": "@jupyter-widgets/controls",
            "_view_module_version": "1.5.0",
            "_view_name": "HBoxView",
            "box_style": "",
            "children": [
              "IPY_MODEL_6f33177fe5cf435c815890a7360240c1",
              "IPY_MODEL_9d9b280f9a65476b946a9397d8aa713c",
              "IPY_MODEL_9ee58806d65342048e8e97e7d8371211"
            ],
            "layout": "IPY_MODEL_196ac8735f594f2e8f389488a6c0b80c"
          }
        },
        "6f33177fe5cf435c815890a7360240c1": {
          "model_module": "@jupyter-widgets/controls",
          "model_name": "HTMLModel",
          "model_module_version": "1.5.0",
          "state": {
            "_dom_classes": [],
            "_model_module": "@jupyter-widgets/controls",
            "_model_module_version": "1.5.0",
            "_model_name": "HTMLModel",
            "_view_count": null,
            "_view_module": "@jupyter-widgets/controls",
            "_view_module_version": "1.5.0",
            "_view_name": "HTMLView",
            "description": "",
            "description_tooltip": null,
            "layout": "IPY_MODEL_beee0f3ada0c42f686521774dd678d8b",
            "placeholder": "​",
            "style": "IPY_MODEL_0aeefdbac3f145219b79e18fa0fe142e",
            "value": "MELD_audio.zip: 100%"
          }
        },
        "9d9b280f9a65476b946a9397d8aa713c": {
          "model_module": "@jupyter-widgets/controls",
          "model_name": "FloatProgressModel",
          "model_module_version": "1.5.0",
          "state": {
            "_dom_classes": [],
            "_model_module": "@jupyter-widgets/controls",
            "_model_module_version": "1.5.0",
            "_model_name": "FloatProgressModel",
            "_view_count": null,
            "_view_module": "@jupyter-widgets/controls",
            "_view_module_version": "1.5.0",
            "_view_name": "ProgressView",
            "bar_style": "success",
            "description": "",
            "description_tooltip": null,
            "layout": "IPY_MODEL_7dead1afe21c44ddb376658694f9518a",
            "max": 1146137392,
            "min": 0,
            "orientation": "horizontal",
            "style": "IPY_MODEL_1df147bdde3347c2bbbea216bea1961f",
            "value": 1146137392
          }
        },
        "9ee58806d65342048e8e97e7d8371211": {
          "model_module": "@jupyter-widgets/controls",
          "model_name": "HTMLModel",
          "model_module_version": "1.5.0",
          "state": {
            "_dom_classes": [],
            "_model_module": "@jupyter-widgets/controls",
            "_model_module_version": "1.5.0",
            "_model_name": "HTMLModel",
            "_view_count": null,
            "_view_module": "@jupyter-widgets/controls",
            "_view_module_version": "1.5.0",
            "_view_name": "HTMLView",
            "description": "",
            "description_tooltip": null,
            "layout": "IPY_MODEL_d4500c801d14416fafe663b0fb930c73",
            "placeholder": "​",
            "style": "IPY_MODEL_93aa454945e94f18880dd45d1b375eee",
            "value": " 1.15G/1.15G [00:15&lt;00:00, 71.9MB/s]"
          }
        },
        "196ac8735f594f2e8f389488a6c0b80c": {
          "model_module": "@jupyter-widgets/base",
          "model_name": "LayoutModel",
          "model_module_version": "1.2.0",
          "state": {
            "_model_module": "@jupyter-widgets/base",
            "_model_module_version": "1.2.0",
            "_model_name": "LayoutModel",
            "_view_count": null,
            "_view_module": "@jupyter-widgets/base",
            "_view_module_version": "1.2.0",
            "_view_name": "LayoutView",
            "align_content": null,
            "align_items": null,
            "align_self": null,
            "border": null,
            "bottom": null,
            "display": null,
            "flex": null,
            "flex_flow": null,
            "grid_area": null,
            "grid_auto_columns": null,
            "grid_auto_flow": null,
            "grid_auto_rows": null,
            "grid_column": null,
            "grid_gap": null,
            "grid_row": null,
            "grid_template_areas": null,
            "grid_template_columns": null,
            "grid_template_rows": null,
            "height": null,
            "justify_content": null,
            "justify_items": null,
            "left": null,
            "margin": null,
            "max_height": null,
            "max_width": null,
            "min_height": null,
            "min_width": null,
            "object_fit": null,
            "object_position": null,
            "order": null,
            "overflow": null,
            "overflow_x": null,
            "overflow_y": null,
            "padding": null,
            "right": null,
            "top": null,
            "visibility": null,
            "width": null
          }
        },
        "beee0f3ada0c42f686521774dd678d8b": {
          "model_module": "@jupyter-widgets/base",
          "model_name": "LayoutModel",
          "model_module_version": "1.2.0",
          "state": {
            "_model_module": "@jupyter-widgets/base",
            "_model_module_version": "1.2.0",
            "_model_name": "LayoutModel",
            "_view_count": null,
            "_view_module": "@jupyter-widgets/base",
            "_view_module_version": "1.2.0",
            "_view_name": "LayoutView",
            "align_content": null,
            "align_items": null,
            "align_self": null,
            "border": null,
            "bottom": null,
            "display": null,
            "flex": null,
            "flex_flow": null,
            "grid_area": null,
            "grid_auto_columns": null,
            "grid_auto_flow": null,
            "grid_auto_rows": null,
            "grid_column": null,
            "grid_gap": null,
            "grid_row": null,
            "grid_template_areas": null,
            "grid_template_columns": null,
            "grid_template_rows": null,
            "height": null,
            "justify_content": null,
            "justify_items": null,
            "left": null,
            "margin": null,
            "max_height": null,
            "max_width": null,
            "min_height": null,
            "min_width": null,
            "object_fit": null,
            "object_position": null,
            "order": null,
            "overflow": null,
            "overflow_x": null,
            "overflow_y": null,
            "padding": null,
            "right": null,
            "top": null,
            "visibility": null,
            "width": null
          }
        },
        "0aeefdbac3f145219b79e18fa0fe142e": {
          "model_module": "@jupyter-widgets/controls",
          "model_name": "DescriptionStyleModel",
          "model_module_version": "1.5.0",
          "state": {
            "_model_module": "@jupyter-widgets/controls",
            "_model_module_version": "1.5.0",
            "_model_name": "DescriptionStyleModel",
            "_view_count": null,
            "_view_module": "@jupyter-widgets/base",
            "_view_module_version": "1.2.0",
            "_view_name": "StyleView",
            "description_width": ""
          }
        },
        "7dead1afe21c44ddb376658694f9518a": {
          "model_module": "@jupyter-widgets/base",
          "model_name": "LayoutModel",
          "model_module_version": "1.2.0",
          "state": {
            "_model_module": "@jupyter-widgets/base",
            "_model_module_version": "1.2.0",
            "_model_name": "LayoutModel",
            "_view_count": null,
            "_view_module": "@jupyter-widgets/base",
            "_view_module_version": "1.2.0",
            "_view_name": "LayoutView",
            "align_content": null,
            "align_items": null,
            "align_self": null,
            "border": null,
            "bottom": null,
            "display": null,
            "flex": null,
            "flex_flow": null,
            "grid_area": null,
            "grid_auto_columns": null,
            "grid_auto_flow": null,
            "grid_auto_rows": null,
            "grid_column": null,
            "grid_gap": null,
            "grid_row": null,
            "grid_template_areas": null,
            "grid_template_columns": null,
            "grid_template_rows": null,
            "height": null,
            "justify_content": null,
            "justify_items": null,
            "left": null,
            "margin": null,
            "max_height": null,
            "max_width": null,
            "min_height": null,
            "min_width": null,
            "object_fit": null,
            "object_position": null,
            "order": null,
            "overflow": null,
            "overflow_x": null,
            "overflow_y": null,
            "padding": null,
            "right": null,
            "top": null,
            "visibility": null,
            "width": null
          }
        },
        "1df147bdde3347c2bbbea216bea1961f": {
          "model_module": "@jupyter-widgets/controls",
          "model_name": "ProgressStyleModel",
          "model_module_version": "1.5.0",
          "state": {
            "_model_module": "@jupyter-widgets/controls",
            "_model_module_version": "1.5.0",
            "_model_name": "ProgressStyleModel",
            "_view_count": null,
            "_view_module": "@jupyter-widgets/base",
            "_view_module_version": "1.2.0",
            "_view_name": "StyleView",
            "bar_color": null,
            "description_width": ""
          }
        },
        "d4500c801d14416fafe663b0fb930c73": {
          "model_module": "@jupyter-widgets/base",
          "model_name": "LayoutModel",
          "model_module_version": "1.2.0",
          "state": {
            "_model_module": "@jupyter-widgets/base",
            "_model_module_version": "1.2.0",
            "_model_name": "LayoutModel",
            "_view_count": null,
            "_view_module": "@jupyter-widgets/base",
            "_view_module_version": "1.2.0",
            "_view_name": "LayoutView",
            "align_content": null,
            "align_items": null,
            "align_self": null,
            "border": null,
            "bottom": null,
            "display": null,
            "flex": null,
            "flex_flow": null,
            "grid_area": null,
            "grid_auto_columns": null,
            "grid_auto_flow": null,
            "grid_auto_rows": null,
            "grid_column": null,
            "grid_gap": null,
            "grid_row": null,
            "grid_template_areas": null,
            "grid_template_columns": null,
            "grid_template_rows": null,
            "height": null,
            "justify_content": null,
            "justify_items": null,
            "left": null,
            "margin": null,
            "max_height": null,
            "max_width": null,
            "min_height": null,
            "min_width": null,
            "object_fit": null,
            "object_position": null,
            "order": null,
            "overflow": null,
            "overflow_x": null,
            "overflow_y": null,
            "padding": null,
            "right": null,
            "top": null,
            "visibility": null,
            "width": null
          }
        },
        "93aa454945e94f18880dd45d1b375eee": {
          "model_module": "@jupyter-widgets/controls",
          "model_name": "DescriptionStyleModel",
          "model_module_version": "1.5.0",
          "state": {
            "_model_module": "@jupyter-widgets/controls",
            "_model_module_version": "1.5.0",
            "_model_name": "DescriptionStyleModel",
            "_view_count": null,
            "_view_module": "@jupyter-widgets/base",
            "_view_module_version": "1.2.0",
            "_view_name": "StyleView",
            "description_width": ""
          }
        },
        "af053f8bfde949d5b191b8ae4cf9f228": {
          "model_module": "@jupyter-widgets/controls",
          "model_name": "HBoxModel",
          "model_module_version": "1.5.0",
          "state": {
            "_dom_classes": [],
            "_model_module": "@jupyter-widgets/controls",
            "_model_module_version": "1.5.0",
            "_model_name": "HBoxModel",
            "_view_count": null,
            "_view_module": "@jupyter-widgets/controls",
            "_view_module_version": "1.5.0",
            "_view_name": "HBoxView",
            "box_style": "",
            "children": [
              "IPY_MODEL_fa51ebe41cc54be39d2722f8e76b12a8",
              "IPY_MODEL_e27ca71a87964bfe8c42fb6fed3bd416",
              "IPY_MODEL_b99f164014df40cebe2552451c6d6d6e"
            ],
            "layout": "IPY_MODEL_a06c240243cf487084037083cc9faaac"
          }
        },
        "fa51ebe41cc54be39d2722f8e76b12a8": {
          "model_module": "@jupyter-widgets/controls",
          "model_name": "HTMLModel",
          "model_module_version": "1.5.0",
          "state": {
            "_dom_classes": [],
            "_model_module": "@jupyter-widgets/controls",
            "_model_module_version": "1.5.0",
            "_model_name": "HTMLModel",
            "_view_count": null,
            "_view_module": "@jupyter-widgets/controls",
            "_view_module_version": "1.5.0",
            "_view_name": "HTMLView",
            "description": "",
            "description_tooltip": null,
            "layout": "IPY_MODEL_87d38198054b4d06a58f947607719dcb",
            "placeholder": "​",
            "style": "IPY_MODEL_ef64f709a9ed474b9975234072b343b9",
            "value": "text_model.zip: 100%"
          }
        },
        "e27ca71a87964bfe8c42fb6fed3bd416": {
          "model_module": "@jupyter-widgets/controls",
          "model_name": "FloatProgressModel",
          "model_module_version": "1.5.0",
          "state": {
            "_dom_classes": [],
            "_model_module": "@jupyter-widgets/controls",
            "_model_module_version": "1.5.0",
            "_model_name": "FloatProgressModel",
            "_view_count": null,
            "_view_module": "@jupyter-widgets/controls",
            "_view_module_version": "1.5.0",
            "_view_name": "ProgressView",
            "bar_style": "success",
            "description": "",
            "description_tooltip": null,
            "layout": "IPY_MODEL_f221baf094554df289fd7c89994a8f93",
            "max": 247319916,
            "min": 0,
            "orientation": "horizontal",
            "style": "IPY_MODEL_cf318e8a8d964a9f8c70c3ae301c6bfe",
            "value": 247319916
          }
        },
        "b99f164014df40cebe2552451c6d6d6e": {
          "model_module": "@jupyter-widgets/controls",
          "model_name": "HTMLModel",
          "model_module_version": "1.5.0",
          "state": {
            "_dom_classes": [],
            "_model_module": "@jupyter-widgets/controls",
            "_model_module_version": "1.5.0",
            "_model_name": "HTMLModel",
            "_view_count": null,
            "_view_module": "@jupyter-widgets/controls",
            "_view_module_version": "1.5.0",
            "_view_name": "HTMLView",
            "description": "",
            "description_tooltip": null,
            "layout": "IPY_MODEL_fd5f422de23e4484844d0375097a4d67",
            "placeholder": "​",
            "style": "IPY_MODEL_db3887cb5d634925882f165b0a279bf9",
            "value": " 247M/247M [00:03&lt;00:00, 72.4MB/s]"
          }
        },
        "a06c240243cf487084037083cc9faaac": {
          "model_module": "@jupyter-widgets/base",
          "model_name": "LayoutModel",
          "model_module_version": "1.2.0",
          "state": {
            "_model_module": "@jupyter-widgets/base",
            "_model_module_version": "1.2.0",
            "_model_name": "LayoutModel",
            "_view_count": null,
            "_view_module": "@jupyter-widgets/base",
            "_view_module_version": "1.2.0",
            "_view_name": "LayoutView",
            "align_content": null,
            "align_items": null,
            "align_self": null,
            "border": null,
            "bottom": null,
            "display": null,
            "flex": null,
            "flex_flow": null,
            "grid_area": null,
            "grid_auto_columns": null,
            "grid_auto_flow": null,
            "grid_auto_rows": null,
            "grid_column": null,
            "grid_gap": null,
            "grid_row": null,
            "grid_template_areas": null,
            "grid_template_columns": null,
            "grid_template_rows": null,
            "height": null,
            "justify_content": null,
            "justify_items": null,
            "left": null,
            "margin": null,
            "max_height": null,
            "max_width": null,
            "min_height": null,
            "min_width": null,
            "object_fit": null,
            "object_position": null,
            "order": null,
            "overflow": null,
            "overflow_x": null,
            "overflow_y": null,
            "padding": null,
            "right": null,
            "top": null,
            "visibility": null,
            "width": null
          }
        },
        "87d38198054b4d06a58f947607719dcb": {
          "model_module": "@jupyter-widgets/base",
          "model_name": "LayoutModel",
          "model_module_version": "1.2.0",
          "state": {
            "_model_module": "@jupyter-widgets/base",
            "_model_module_version": "1.2.0",
            "_model_name": "LayoutModel",
            "_view_count": null,
            "_view_module": "@jupyter-widgets/base",
            "_view_module_version": "1.2.0",
            "_view_name": "LayoutView",
            "align_content": null,
            "align_items": null,
            "align_self": null,
            "border": null,
            "bottom": null,
            "display": null,
            "flex": null,
            "flex_flow": null,
            "grid_area": null,
            "grid_auto_columns": null,
            "grid_auto_flow": null,
            "grid_auto_rows": null,
            "grid_column": null,
            "grid_gap": null,
            "grid_row": null,
            "grid_template_areas": null,
            "grid_template_columns": null,
            "grid_template_rows": null,
            "height": null,
            "justify_content": null,
            "justify_items": null,
            "left": null,
            "margin": null,
            "max_height": null,
            "max_width": null,
            "min_height": null,
            "min_width": null,
            "object_fit": null,
            "object_position": null,
            "order": null,
            "overflow": null,
            "overflow_x": null,
            "overflow_y": null,
            "padding": null,
            "right": null,
            "top": null,
            "visibility": null,
            "width": null
          }
        },
        "ef64f709a9ed474b9975234072b343b9": {
          "model_module": "@jupyter-widgets/controls",
          "model_name": "DescriptionStyleModel",
          "model_module_version": "1.5.0",
          "state": {
            "_model_module": "@jupyter-widgets/controls",
            "_model_module_version": "1.5.0",
            "_model_name": "DescriptionStyleModel",
            "_view_count": null,
            "_view_module": "@jupyter-widgets/base",
            "_view_module_version": "1.2.0",
            "_view_name": "StyleView",
            "description_width": ""
          }
        },
        "f221baf094554df289fd7c89994a8f93": {
          "model_module": "@jupyter-widgets/base",
          "model_name": "LayoutModel",
          "model_module_version": "1.2.0",
          "state": {
            "_model_module": "@jupyter-widgets/base",
            "_model_module_version": "1.2.0",
            "_model_name": "LayoutModel",
            "_view_count": null,
            "_view_module": "@jupyter-widgets/base",
            "_view_module_version": "1.2.0",
            "_view_name": "LayoutView",
            "align_content": null,
            "align_items": null,
            "align_self": null,
            "border": null,
            "bottom": null,
            "display": null,
            "flex": null,
            "flex_flow": null,
            "grid_area": null,
            "grid_auto_columns": null,
            "grid_auto_flow": null,
            "grid_auto_rows": null,
            "grid_column": null,
            "grid_gap": null,
            "grid_row": null,
            "grid_template_areas": null,
            "grid_template_columns": null,
            "grid_template_rows": null,
            "height": null,
            "justify_content": null,
            "justify_items": null,
            "left": null,
            "margin": null,
            "max_height": null,
            "max_width": null,
            "min_height": null,
            "min_width": null,
            "object_fit": null,
            "object_position": null,
            "order": null,
            "overflow": null,
            "overflow_x": null,
            "overflow_y": null,
            "padding": null,
            "right": null,
            "top": null,
            "visibility": null,
            "width": null
          }
        },
        "cf318e8a8d964a9f8c70c3ae301c6bfe": {
          "model_module": "@jupyter-widgets/controls",
          "model_name": "ProgressStyleModel",
          "model_module_version": "1.5.0",
          "state": {
            "_model_module": "@jupyter-widgets/controls",
            "_model_module_version": "1.5.0",
            "_model_name": "ProgressStyleModel",
            "_view_count": null,
            "_view_module": "@jupyter-widgets/base",
            "_view_module_version": "1.2.0",
            "_view_name": "StyleView",
            "bar_color": null,
            "description_width": ""
          }
        },
        "fd5f422de23e4484844d0375097a4d67": {
          "model_module": "@jupyter-widgets/base",
          "model_name": "LayoutModel",
          "model_module_version": "1.2.0",
          "state": {
            "_model_module": "@jupyter-widgets/base",
            "_model_module_version": "1.2.0",
            "_model_name": "LayoutModel",
            "_view_count": null,
            "_view_module": "@jupyter-widgets/base",
            "_view_module_version": "1.2.0",
            "_view_name": "LayoutView",
            "align_content": null,
            "align_items": null,
            "align_self": null,
            "border": null,
            "bottom": null,
            "display": null,
            "flex": null,
            "flex_flow": null,
            "grid_area": null,
            "grid_auto_columns": null,
            "grid_auto_flow": null,
            "grid_auto_rows": null,
            "grid_column": null,
            "grid_gap": null,
            "grid_row": null,
            "grid_template_areas": null,
            "grid_template_columns": null,
            "grid_template_rows": null,
            "height": null,
            "justify_content": null,
            "justify_items": null,
            "left": null,
            "margin": null,
            "max_height": null,
            "max_width": null,
            "min_height": null,
            "min_width": null,
            "object_fit": null,
            "object_position": null,
            "order": null,
            "overflow": null,
            "overflow_x": null,
            "overflow_y": null,
            "padding": null,
            "right": null,
            "top": null,
            "visibility": null,
            "width": null
          }
        },
        "db3887cb5d634925882f165b0a279bf9": {
          "model_module": "@jupyter-widgets/controls",
          "model_name": "DescriptionStyleModel",
          "model_module_version": "1.5.0",
          "state": {
            "_model_module": "@jupyter-widgets/controls",
            "_model_module_version": "1.5.0",
            "_model_name": "DescriptionStyleModel",
            "_view_count": null,
            "_view_module": "@jupyter-widgets/base",
            "_view_module_version": "1.2.0",
            "_view_name": "StyleView",
            "description_width": ""
          }
        },
        "4a631d12fbe74c108d00e0f62146e0f3": {
          "model_module": "@jupyter-widgets/controls",
          "model_name": "HBoxModel",
          "model_module_version": "1.5.0",
          "state": {
            "_dom_classes": [],
            "_model_module": "@jupyter-widgets/controls",
            "_model_module_version": "1.5.0",
            "_model_name": "HBoxModel",
            "_view_count": null,
            "_view_module": "@jupyter-widgets/controls",
            "_view_module_version": "1.5.0",
            "_view_name": "HBoxView",
            "box_style": "",
            "children": [
              "IPY_MODEL_0da5f09679774cc7b96ea514fdbe0065",
              "IPY_MODEL_f41e5aa07cc2496eafd0383254746c30",
              "IPY_MODEL_981ebafc752346e388a8787156ba269c"
            ],
            "layout": "IPY_MODEL_2cd3e4c2d7994d748dcc8c337a51b86d"
          }
        },
        "0da5f09679774cc7b96ea514fdbe0065": {
          "model_module": "@jupyter-widgets/controls",
          "model_name": "HTMLModel",
          "model_module_version": "1.5.0",
          "state": {
            "_dom_classes": [],
            "_model_module": "@jupyter-widgets/controls",
            "_model_module_version": "1.5.0",
            "_model_name": "HTMLModel",
            "_view_count": null,
            "_view_module": "@jupyter-widgets/controls",
            "_view_module_version": "1.5.0",
            "_view_name": "HTMLView",
            "description": "",
            "description_tooltip": null,
            "layout": "IPY_MODEL_eb0f0ea7818641fa9b298d223efa5b72",
            "placeholder": "​",
            "style": "IPY_MODEL_b5aabdeb0f92487f9a4dfb48d5e48a2e",
            "value": "audio_model.zip: 100%"
          }
        },
        "f41e5aa07cc2496eafd0383254746c30": {
          "model_module": "@jupyter-widgets/controls",
          "model_name": "FloatProgressModel",
          "model_module_version": "1.5.0",
          "state": {
            "_dom_classes": [],
            "_model_module": "@jupyter-widgets/controls",
            "_model_module_version": "1.5.0",
            "_model_name": "FloatProgressModel",
            "_view_count": null,
            "_view_module": "@jupyter-widgets/controls",
            "_view_module_version": "1.5.0",
            "_view_name": "ProgressView",
            "bar_style": "success",
            "description": "",
            "description_tooltip": null,
            "layout": "IPY_MODEL_a0479069d68e4adb95cc7ae2a0de2760",
            "max": 1173635993,
            "min": 0,
            "orientation": "horizontal",
            "style": "IPY_MODEL_3318f64430264ccd92fd3ca42e065268",
            "value": 1173635993
          }
        },
        "981ebafc752346e388a8787156ba269c": {
          "model_module": "@jupyter-widgets/controls",
          "model_name": "HTMLModel",
          "model_module_version": "1.5.0",
          "state": {
            "_dom_classes": [],
            "_model_module": "@jupyter-widgets/controls",
            "_model_module_version": "1.5.0",
            "_model_name": "HTMLModel",
            "_view_count": null,
            "_view_module": "@jupyter-widgets/controls",
            "_view_module_version": "1.5.0",
            "_view_name": "HTMLView",
            "description": "",
            "description_tooltip": null,
            "layout": "IPY_MODEL_92adb8c951b94a4584fa890fa4dcb9ff",
            "placeholder": "​",
            "style": "IPY_MODEL_5d6d867e02d246138782e7b71fad4fab",
            "value": " 1.17G/1.17G [00:15&lt;00:00, 83.4MB/s]"
          }
        },
        "2cd3e4c2d7994d748dcc8c337a51b86d": {
          "model_module": "@jupyter-widgets/base",
          "model_name": "LayoutModel",
          "model_module_version": "1.2.0",
          "state": {
            "_model_module": "@jupyter-widgets/base",
            "_model_module_version": "1.2.0",
            "_model_name": "LayoutModel",
            "_view_count": null,
            "_view_module": "@jupyter-widgets/base",
            "_view_module_version": "1.2.0",
            "_view_name": "LayoutView",
            "align_content": null,
            "align_items": null,
            "align_self": null,
            "border": null,
            "bottom": null,
            "display": null,
            "flex": null,
            "flex_flow": null,
            "grid_area": null,
            "grid_auto_columns": null,
            "grid_auto_flow": null,
            "grid_auto_rows": null,
            "grid_column": null,
            "grid_gap": null,
            "grid_row": null,
            "grid_template_areas": null,
            "grid_template_columns": null,
            "grid_template_rows": null,
            "height": null,
            "justify_content": null,
            "justify_items": null,
            "left": null,
            "margin": null,
            "max_height": null,
            "max_width": null,
            "min_height": null,
            "min_width": null,
            "object_fit": null,
            "object_position": null,
            "order": null,
            "overflow": null,
            "overflow_x": null,
            "overflow_y": null,
            "padding": null,
            "right": null,
            "top": null,
            "visibility": null,
            "width": null
          }
        },
        "eb0f0ea7818641fa9b298d223efa5b72": {
          "model_module": "@jupyter-widgets/base",
          "model_name": "LayoutModel",
          "model_module_version": "1.2.0",
          "state": {
            "_model_module": "@jupyter-widgets/base",
            "_model_module_version": "1.2.0",
            "_model_name": "LayoutModel",
            "_view_count": null,
            "_view_module": "@jupyter-widgets/base",
            "_view_module_version": "1.2.0",
            "_view_name": "LayoutView",
            "align_content": null,
            "align_items": null,
            "align_self": null,
            "border": null,
            "bottom": null,
            "display": null,
            "flex": null,
            "flex_flow": null,
            "grid_area": null,
            "grid_auto_columns": null,
            "grid_auto_flow": null,
            "grid_auto_rows": null,
            "grid_column": null,
            "grid_gap": null,
            "grid_row": null,
            "grid_template_areas": null,
            "grid_template_columns": null,
            "grid_template_rows": null,
            "height": null,
            "justify_content": null,
            "justify_items": null,
            "left": null,
            "margin": null,
            "max_height": null,
            "max_width": null,
            "min_height": null,
            "min_width": null,
            "object_fit": null,
            "object_position": null,
            "order": null,
            "overflow": null,
            "overflow_x": null,
            "overflow_y": null,
            "padding": null,
            "right": null,
            "top": null,
            "visibility": null,
            "width": null
          }
        },
        "b5aabdeb0f92487f9a4dfb48d5e48a2e": {
          "model_module": "@jupyter-widgets/controls",
          "model_name": "DescriptionStyleModel",
          "model_module_version": "1.5.0",
          "state": {
            "_model_module": "@jupyter-widgets/controls",
            "_model_module_version": "1.5.0",
            "_model_name": "DescriptionStyleModel",
            "_view_count": null,
            "_view_module": "@jupyter-widgets/base",
            "_view_module_version": "1.2.0",
            "_view_name": "StyleView",
            "description_width": ""
          }
        },
        "a0479069d68e4adb95cc7ae2a0de2760": {
          "model_module": "@jupyter-widgets/base",
          "model_name": "LayoutModel",
          "model_module_version": "1.2.0",
          "state": {
            "_model_module": "@jupyter-widgets/base",
            "_model_module_version": "1.2.0",
            "_model_name": "LayoutModel",
            "_view_count": null,
            "_view_module": "@jupyter-widgets/base",
            "_view_module_version": "1.2.0",
            "_view_name": "LayoutView",
            "align_content": null,
            "align_items": null,
            "align_self": null,
            "border": null,
            "bottom": null,
            "display": null,
            "flex": null,
            "flex_flow": null,
            "grid_area": null,
            "grid_auto_columns": null,
            "grid_auto_flow": null,
            "grid_auto_rows": null,
            "grid_column": null,
            "grid_gap": null,
            "grid_row": null,
            "grid_template_areas": null,
            "grid_template_columns": null,
            "grid_template_rows": null,
            "height": null,
            "justify_content": null,
            "justify_items": null,
            "left": null,
            "margin": null,
            "max_height": null,
            "max_width": null,
            "min_height": null,
            "min_width": null,
            "object_fit": null,
            "object_position": null,
            "order": null,
            "overflow": null,
            "overflow_x": null,
            "overflow_y": null,
            "padding": null,
            "right": null,
            "top": null,
            "visibility": null,
            "width": null
          }
        },
        "3318f64430264ccd92fd3ca42e065268": {
          "model_module": "@jupyter-widgets/controls",
          "model_name": "ProgressStyleModel",
          "model_module_version": "1.5.0",
          "state": {
            "_model_module": "@jupyter-widgets/controls",
            "_model_module_version": "1.5.0",
            "_model_name": "ProgressStyleModel",
            "_view_count": null,
            "_view_module": "@jupyter-widgets/base",
            "_view_module_version": "1.2.0",
            "_view_name": "StyleView",
            "bar_color": null,
            "description_width": ""
          }
        },
        "92adb8c951b94a4584fa890fa4dcb9ff": {
          "model_module": "@jupyter-widgets/base",
          "model_name": "LayoutModel",
          "model_module_version": "1.2.0",
          "state": {
            "_model_module": "@jupyter-widgets/base",
            "_model_module_version": "1.2.0",
            "_model_name": "LayoutModel",
            "_view_count": null,
            "_view_module": "@jupyter-widgets/base",
            "_view_module_version": "1.2.0",
            "_view_name": "LayoutView",
            "align_content": null,
            "align_items": null,
            "align_self": null,
            "border": null,
            "bottom": null,
            "display": null,
            "flex": null,
            "flex_flow": null,
            "grid_area": null,
            "grid_auto_columns": null,
            "grid_auto_flow": null,
            "grid_auto_rows": null,
            "grid_column": null,
            "grid_gap": null,
            "grid_row": null,
            "grid_template_areas": null,
            "grid_template_columns": null,
            "grid_template_rows": null,
            "height": null,
            "justify_content": null,
            "justify_items": null,
            "left": null,
            "margin": null,
            "max_height": null,
            "max_width": null,
            "min_height": null,
            "min_width": null,
            "object_fit": null,
            "object_position": null,
            "order": null,
            "overflow": null,
            "overflow_x": null,
            "overflow_y": null,
            "padding": null,
            "right": null,
            "top": null,
            "visibility": null,
            "width": null
          }
        },
        "5d6d867e02d246138782e7b71fad4fab": {
          "model_module": "@jupyter-widgets/controls",
          "model_name": "DescriptionStyleModel",
          "model_module_version": "1.5.0",
          "state": {
            "_model_module": "@jupyter-widgets/controls",
            "_model_module_version": "1.5.0",
            "_model_name": "DescriptionStyleModel",
            "_view_count": null,
            "_view_module": "@jupyter-widgets/base",
            "_view_module_version": "1.2.0",
            "_view_name": "StyleView",
            "description_width": ""
          }
        }
      }
    }
  },
  "cells": [
    {
      "cell_type": "markdown",
      "source": [
        "# Importación de bibliotecas"
      ],
      "metadata": {
        "id": "uq8_9OMMvq2u"
      }
    },
    {
      "cell_type": "code",
      "source": [
        "import pandas as pd\n",
        "import matplotlib.pyplot as plt\n",
        "import seaborn as sns\n",
        "import random\n",
        "import torch\n",
        "import torchaudio\n",
        "import os\n",
        "import json\n",
        "import torch.nn.functional as F\n",
        "import numpy as np\n",
        "import pandas as pd\n",
        "\n",
        "from huggingface_hub import hf_hub_download\n",
        "from transformers import DistilBertTokenizer, DistilBertForSequenceClassification\n",
        "from transformers import Wav2Vec2ForSequenceClassification, Wav2Vec2FeatureExtractor\n",
        "from sklearn.metrics import classification_report, confusion_matrix\n",
        "from sklearn.linear_model import LogisticRegression\n",
        "from sklearn.model_selection import train_test_split, GridSearchCV\n",
        "from sklearn.preprocessing import StandardScaler\n",
        "from sklearn.pipeline import Pipeline\n",
        "from tqdm import tqdm"
      ],
      "metadata": {
        "id": "4Cxdon8PvsDb"
      },
      "execution_count": null,
      "outputs": []
    },
    {
      "cell_type": "code",
      "source": [
        "!pip freeze | grep -E \"pandas|matplotlib|seaborn|torch|torchaudio|transformers|scikit-learn|numpy|random\""
      ],
      "metadata": {
        "colab": {
          "base_uri": "https://localhost:8080/"
        },
        "id": "05xnDrjwtRDo",
        "outputId": "91d44fdc-3200-4a17-ac69-a76ecd603e51"
      },
      "execution_count": null,
      "outputs": [
        {
          "output_type": "stream",
          "name": "stdout",
          "text": [
            "geopandas==1.0.1\n",
            "matplotlib==3.10.0\n",
            "matplotlib-inline==0.1.7\n",
            "matplotlib-venn==1.1.2\n",
            "numpy==2.0.2\n",
            "pandas==2.2.2\n",
            "pandas-datareader==0.10.0\n",
            "pandas-gbq==0.28.0\n",
            "pandas-stubs==2.2.2.240909\n",
            "scikit-learn==1.6.1\n",
            "seaborn==0.13.2\n",
            "sentence-transformers==3.4.1\n",
            "sklearn-pandas==2.2.0\n",
            "torch @ https://download.pytorch.org/whl/cu124/torch-2.6.0%2Bcu124-cp311-cp311-linux_x86_64.whl\n",
            "torchaudio @ https://download.pytorch.org/whl/cu124/torchaudio-2.6.0%2Bcu124-cp311-cp311-linux_x86_64.whl\n",
            "torchsummary==1.5.1\n",
            "torchvision @ https://download.pytorch.org/whl/cu124/torchvision-0.21.0%2Bcu124-cp311-cp311-linux_x86_64.whl\n",
            "transformers==4.51.3\n"
          ]
        }
      ]
    },
    {
      "cell_type": "code",
      "source": [
        "!cat /proc/cpuinfo\n",
        "!cat /proc/meminfo\n",
        "!df -h\n",
        "!nvidia-smi"
      ],
      "metadata": {
        "colab": {
          "base_uri": "https://localhost:8080/"
        },
        "id": "y3UlrdoS8qjs",
        "outputId": "cc060ecf-daff-4369-aec9-0b322ce890ba"
      },
      "execution_count": null,
      "outputs": [
        {
          "output_type": "stream",
          "name": "stdout",
          "text": [
            "processor\t: 0\n",
            "vendor_id\t: GenuineIntel\n",
            "cpu family\t: 6\n",
            "model\t\t: 85\n",
            "model name\t: Intel(R) Xeon(R) CPU @ 2.00GHz\n",
            "stepping\t: 3\n",
            "microcode\t: 0xffffffff\n",
            "cpu MHz\t\t: 2000.160\n",
            "cache size\t: 39424 KB\n",
            "physical id\t: 0\n",
            "siblings\t: 2\n",
            "core id\t\t: 0\n",
            "cpu cores\t: 1\n",
            "apicid\t\t: 0\n",
            "initial apicid\t: 0\n",
            "fpu\t\t: yes\n",
            "fpu_exception\t: yes\n",
            "cpuid level\t: 13\n",
            "wp\t\t: yes\n",
            "flags\t\t: fpu vme de pse tsc msr pae mce cx8 apic sep mtrr pge mca cmov pat pse36 clflush mmx fxsr sse sse2 ss ht syscall nx pdpe1gb rdtscp lm constant_tsc rep_good nopl xtopology nonstop_tsc cpuid tsc_known_freq pni pclmulqdq ssse3 fma cx16 pcid sse4_1 sse4_2 x2apic movbe popcnt aes xsave avx f16c rdrand hypervisor lahf_lm abm 3dnowprefetch invpcid_single ssbd ibrs ibpb stibp fsgsbase tsc_adjust bmi1 hle avx2 smep bmi2 erms invpcid rtm mpx avx512f avx512dq rdseed adx smap clflushopt clwb avx512cd avx512bw avx512vl xsaveopt xsavec xgetbv1 xsaves arat md_clear arch_capabilities\n",
            "bugs\t\t: cpu_meltdown spectre_v1 spectre_v2 spec_store_bypass l1tf mds swapgs taa mmio_stale_data retbleed bhi\n",
            "bogomips\t: 4000.32\n",
            "clflush size\t: 64\n",
            "cache_alignment\t: 64\n",
            "address sizes\t: 46 bits physical, 48 bits virtual\n",
            "power management:\n",
            "\n",
            "processor\t: 1\n",
            "vendor_id\t: GenuineIntel\n",
            "cpu family\t: 6\n",
            "model\t\t: 85\n",
            "model name\t: Intel(R) Xeon(R) CPU @ 2.00GHz\n",
            "stepping\t: 3\n",
            "microcode\t: 0xffffffff\n",
            "cpu MHz\t\t: 2000.160\n",
            "cache size\t: 39424 KB\n",
            "physical id\t: 0\n",
            "siblings\t: 2\n",
            "core id\t\t: 0\n",
            "cpu cores\t: 1\n",
            "apicid\t\t: 1\n",
            "initial apicid\t: 1\n",
            "fpu\t\t: yes\n",
            "fpu_exception\t: yes\n",
            "cpuid level\t: 13\n",
            "wp\t\t: yes\n",
            "flags\t\t: fpu vme de pse tsc msr pae mce cx8 apic sep mtrr pge mca cmov pat pse36 clflush mmx fxsr sse sse2 ss ht syscall nx pdpe1gb rdtscp lm constant_tsc rep_good nopl xtopology nonstop_tsc cpuid tsc_known_freq pni pclmulqdq ssse3 fma cx16 pcid sse4_1 sse4_2 x2apic movbe popcnt aes xsave avx f16c rdrand hypervisor lahf_lm abm 3dnowprefetch invpcid_single ssbd ibrs ibpb stibp fsgsbase tsc_adjust bmi1 hle avx2 smep bmi2 erms invpcid rtm mpx avx512f avx512dq rdseed adx smap clflushopt clwb avx512cd avx512bw avx512vl xsaveopt xsavec xgetbv1 xsaves arat md_clear arch_capabilities\n",
            "bugs\t\t: cpu_meltdown spectre_v1 spectre_v2 spec_store_bypass l1tf mds swapgs taa mmio_stale_data retbleed bhi\n",
            "bogomips\t: 4000.32\n",
            "clflush size\t: 64\n",
            "cache_alignment\t: 64\n",
            "address sizes\t: 46 bits physical, 48 bits virtual\n",
            "power management:\n",
            "\n",
            "MemTotal:       13289424 kB\n",
            "MemFree:         5431244 kB\n",
            "MemAvailable:   11132372 kB\n",
            "Buffers:          433984 kB\n",
            "Cached:          5435144 kB\n",
            "SwapCached:            0 kB\n",
            "Active:           812944 kB\n",
            "Inactive:        6665612 kB\n",
            "Active(anon):       1356 kB\n",
            "Inactive(anon):  1609968 kB\n",
            "Active(file):     811588 kB\n",
            "Inactive(file):  5055644 kB\n",
            "Unevictable:          24 kB\n",
            "Mlocked:              24 kB\n",
            "SwapTotal:             0 kB\n",
            "SwapFree:              0 kB\n",
            "Dirty:               388 kB\n",
            "Writeback:             0 kB\n",
            "AnonPages:       1609416 kB\n",
            "Mapped:           947612 kB\n",
            "Shmem:              1888 kB\n",
            "KReclaimable:     149668 kB\n",
            "Slab:             197132 kB\n",
            "SReclaimable:     149668 kB\n",
            "SUnreclaim:        47464 kB\n",
            "KernelStack:        5684 kB\n",
            "PageTables:        27284 kB\n",
            "SecPageTables:         0 kB\n",
            "NFS_Unstable:          0 kB\n",
            "Bounce:                0 kB\n",
            "WritebackTmp:          0 kB\n",
            "CommitLimit:     6644712 kB\n",
            "Committed_AS:    3885040 kB\n",
            "VmallocTotal:   34359738367 kB\n",
            "VmallocUsed:       83800 kB\n",
            "VmallocChunk:          0 kB\n",
            "Percpu:             1072 kB\n",
            "HardwareCorrupted:     0 kB\n",
            "AnonHugePages:         0 kB\n",
            "ShmemHugePages:        0 kB\n",
            "ShmemPmdMapped:        0 kB\n",
            "FileHugePages:         0 kB\n",
            "FilePmdMapped:         0 kB\n",
            "CmaTotal:              0 kB\n",
            "CmaFree:               0 kB\n",
            "Unaccepted:            0 kB\n",
            "HugePages_Total:       0\n",
            "HugePages_Free:        0\n",
            "HugePages_Rsvd:        0\n",
            "HugePages_Surp:        0\n",
            "Hugepagesize:       2048 kB\n",
            "Hugetlb:               0 kB\n",
            "DirectMap4k:      158512 kB\n",
            "DirectMap2M:     6129664 kB\n",
            "DirectMap1G:     9437184 kB\n",
            "Filesystem      Size  Used Avail Use% Mounted on\n",
            "overlay         113G   38G   76G  33% /\n",
            "tmpfs            64M     0   64M   0% /dev\n",
            "shm             5.7G     0  5.7G   0% /dev/shm\n",
            "/dev/root       2.0G  1.2G  775M  61% /usr/sbin/docker-init\n",
            "/dev/sda1        92G   67G   25G  73% /opt/bin/.nvidia\n",
            "tmpfs           6.4G  108K  6.4G   1% /var/colab\n",
            "tmpfs           6.4G     0  6.4G   0% /proc/acpi\n",
            "tmpfs           6.4G     0  6.4G   0% /proc/scsi\n",
            "tmpfs           6.4G     0  6.4G   0% /sys/firmware\n",
            "Sat May  3 16:25:05 2025       \n",
            "+-----------------------------------------------------------------------------------------+\n",
            "| NVIDIA-SMI 550.54.15              Driver Version: 550.54.15      CUDA Version: 12.4     |\n",
            "|-----------------------------------------+------------------------+----------------------+\n",
            "| GPU  Name                 Persistence-M | Bus-Id          Disp.A | Volatile Uncorr. ECC |\n",
            "| Fan  Temp   Perf          Pwr:Usage/Cap |           Memory-Usage | GPU-Util  Compute M. |\n",
            "|                                         |                        |               MIG M. |\n",
            "|=========================================+========================+======================|\n",
            "|   0  Tesla T4                       Off |   00000000:00:04.0 Off |                    0 |\n",
            "| N/A   44C    P8              9W /   70W |       0MiB /  15360MiB |      0%      Default |\n",
            "|                                         |                        |                  N/A |\n",
            "+-----------------------------------------+------------------------+----------------------+\n",
            "                                                                                         \n",
            "+-----------------------------------------------------------------------------------------+\n",
            "| Processes:                                                                              |\n",
            "|  GPU   GI   CI        PID   Type   Process name                              GPU Memory |\n",
            "|        ID   ID                                                               Usage      |\n",
            "|=========================================================================================|\n",
            "|  No running processes found                                                             |\n",
            "+-----------------------------------------------------------------------------------------+\n"
          ]
        }
      ]
    },
    {
      "cell_type": "code",
      "source": [
        "import sys\n",
        "print(sys.version)"
      ],
      "metadata": {
        "id": "xOIzW4D3-f68",
        "outputId": "31e40eef-8119-475b-b485-5d9e0fa9a730",
        "colab": {
          "base_uri": "https://localhost:8080/"
        }
      },
      "execution_count": null,
      "outputs": [
        {
          "output_type": "stream",
          "name": "stdout",
          "text": [
            "3.11.12 (main, Apr  9 2025, 08:55:54) [GCC 11.4.0]\n"
          ]
        }
      ]
    },
    {
      "cell_type": "markdown",
      "source": [
        "# Obtención del dataset MELD y de los modelos"
      ],
      "metadata": {
        "id": "JmHyMhLKvxdw"
      }
    },
    {
      "cell_type": "markdown",
      "source": [
        "Dataset MELD"
      ],
      "metadata": {
        "id": "hhMb_vPM22r5"
      }
    },
    {
      "cell_type": "code",
      "source": [
        "HOME = os.getcwd()\n",
        "!mkdir {HOME}/data\n",
        "%cd {HOME}/data"
      ],
      "metadata": {
        "colab": {
          "base_uri": "https://localhost:8080/"
        },
        "id": "Rg47DmSlv3yd",
        "outputId": "01705926-bd2e-4114-982b-77cd289945b8"
      },
      "execution_count": null,
      "outputs": [
        {
          "output_type": "stream",
          "name": "stdout",
          "text": [
            "/content/data\n"
          ]
        }
      ]
    },
    {
      "cell_type": "markdown",
      "source": [
        "Texto"
      ],
      "metadata": {
        "id": "6h7czIyZ2mNc"
      }
    },
    {
      "cell_type": "code",
      "source": [
        "hf_dataset_identifier = \"pabloorlw/MELD_text\"\n",
        "filename = \"MELD_text.zip\"\n",
        "\n",
        "file_path = hf_hub_download(\n",
        "    repo_id=hf_dataset_identifier,\n",
        "    filename=filename,\n",
        "    repo_type=\"dataset\",\n",
        ")\n",
        "\n",
        "!unzip -q {file_path}"
      ],
      "metadata": {
        "colab": {
          "base_uri": "https://localhost:8080/",
          "height": 203,
          "referenced_widgets": [
            "6de562e5bac24be6a4b0d6223d3d591c",
            "4f95ea87008d4e18b96ba019f7976fe4",
            "c0d32552a44843bda27a610208139de6",
            "92e7f66218864fa5abe4f625933302e2",
            "c06fb644c9ec44249813979081454bcb",
            "5231073f472f4dacb92c5d67358ae9b0",
            "de5cfe64e05942b18c3498d467133a30",
            "dd1a92346c8148999d5e6ad37d1480be",
            "300773ed83894ace803a372381913d7b",
            "7176f575d3014a2b836ddd315b1fe28f",
            "2bdf80a5d49c4007a8cb69f57a697fac"
          ]
        },
        "id": "Im9y05W82joD",
        "outputId": "4a6a6199-2b7e-4604-b276-1b8618474b34"
      },
      "execution_count": null,
      "outputs": [
        {
          "output_type": "stream",
          "name": "stderr",
          "text": [
            "/usr/local/lib/python3.11/dist-packages/huggingface_hub/utils/_auth.py:94: UserWarning: \n",
            "The secret `HF_TOKEN` does not exist in your Colab secrets.\n",
            "To authenticate with the Hugging Face Hub, create a token in your settings tab (https://huggingface.co/settings/tokens), set it as secret in your Google Colab and restart your session.\n",
            "You will be able to reuse this secret in all of your notebooks.\n",
            "Please note that authentication is recommended but still optional to access public models or datasets.\n",
            "  warnings.warn(\n"
          ]
        },
        {
          "output_type": "display_data",
          "data": {
            "text/plain": [
              "MELD_text.zip:   0%|          | 0.00/514k [00:00<?, ?B/s]"
            ],
            "application/vnd.jupyter.widget-view+json": {
              "version_major": 2,
              "version_minor": 0,
              "model_id": "6de562e5bac24be6a4b0d6223d3d591c"
            }
          },
          "metadata": {}
        }
      ]
    },
    {
      "cell_type": "markdown",
      "source": [
        "Audio"
      ],
      "metadata": {
        "id": "0PYRJuNS2pL0"
      }
    },
    {
      "cell_type": "code",
      "source": [
        "hf_dataset_identifier = \"pabloorlw/MELD_audio\"\n",
        "filename = \"MELD_audio.zip\"\n",
        "\n",
        "file_path = hf_hub_download(\n",
        "    repo_id=hf_dataset_identifier,\n",
        "    filename=filename,\n",
        "    repo_type=\"dataset\",\n",
        ")\n",
        "\n",
        "!unzip -q {file_path}"
      ],
      "metadata": {
        "colab": {
          "base_uri": "https://localhost:8080/",
          "height": 97,
          "referenced_widgets": [
            "b25b49c327244af19d0e6431f80dbfee",
            "6f33177fe5cf435c815890a7360240c1",
            "9d9b280f9a65476b946a9397d8aa713c",
            "9ee58806d65342048e8e97e7d8371211",
            "196ac8735f594f2e8f389488a6c0b80c",
            "beee0f3ada0c42f686521774dd678d8b",
            "0aeefdbac3f145219b79e18fa0fe142e",
            "7dead1afe21c44ddb376658694f9518a",
            "1df147bdde3347c2bbbea216bea1961f",
            "d4500c801d14416fafe663b0fb930c73",
            "93aa454945e94f18880dd45d1b375eee"
          ]
        },
        "id": "-C8etGPY2uX-",
        "outputId": "56f823d0-3392-4788-ac29-c9e630e76743"
      },
      "execution_count": null,
      "outputs": [
        {
          "output_type": "display_data",
          "data": {
            "text/plain": [
              "MELD_audio.zip:   0%|          | 0.00/1.15G [00:00<?, ?B/s]"
            ],
            "application/vnd.jupyter.widget-view+json": {
              "version_major": 2,
              "version_minor": 0,
              "model_id": "b25b49c327244af19d0e6431f80dbfee"
            }
          },
          "metadata": {}
        }
      ]
    },
    {
      "cell_type": "markdown",
      "source": [
        "Modelos"
      ],
      "metadata": {
        "id": "w1CmqSQv29_2"
      }
    },
    {
      "cell_type": "code",
      "source": [
        "!mkdir {HOME}/models\n",
        "%cd {HOME}/models"
      ],
      "metadata": {
        "colab": {
          "base_uri": "https://localhost:8080/"
        },
        "id": "5GQ25LAV3imF",
        "outputId": "017f88eb-109c-4db2-e1ee-43e4bef375e1"
      },
      "execution_count": null,
      "outputs": [
        {
          "output_type": "stream",
          "name": "stdout",
          "text": [
            "/content/models\n"
          ]
        }
      ]
    },
    {
      "cell_type": "markdown",
      "source": [
        "Texto"
      ],
      "metadata": {
        "id": "3LdcJ8aS3Bra"
      }
    },
    {
      "cell_type": "code",
      "source": [
        "hf_model_identifier = \"pabloorlw/text_model\"\n",
        "filename = \"text_model.zip\"\n",
        "\n",
        "file_path = hf_hub_download(\n",
        "    repo_id=hf_model_identifier,\n",
        "    filename=filename,\n",
        "    repo_type=\"model\",\n",
        ")\n",
        "\n",
        "!unzip -q {file_path}"
      ],
      "metadata": {
        "colab": {
          "base_uri": "https://localhost:8080/",
          "height": 97,
          "referenced_widgets": [
            "af053f8bfde949d5b191b8ae4cf9f228",
            "fa51ebe41cc54be39d2722f8e76b12a8",
            "e27ca71a87964bfe8c42fb6fed3bd416",
            "b99f164014df40cebe2552451c6d6d6e",
            "a06c240243cf487084037083cc9faaac",
            "87d38198054b4d06a58f947607719dcb",
            "ef64f709a9ed474b9975234072b343b9",
            "f221baf094554df289fd7c89994a8f93",
            "cf318e8a8d964a9f8c70c3ae301c6bfe",
            "fd5f422de23e4484844d0375097a4d67",
            "db3887cb5d634925882f165b0a279bf9"
          ]
        },
        "id": "xtoP-KI22_vN",
        "outputId": "3a832ce5-b6c6-4c36-c021-025665c5e1fb"
      },
      "execution_count": null,
      "outputs": [
        {
          "output_type": "display_data",
          "data": {
            "text/plain": [
              "text_model.zip:   0%|          | 0.00/247M [00:00<?, ?B/s]"
            ],
            "application/vnd.jupyter.widget-view+json": {
              "version_major": 2,
              "version_minor": 0,
              "model_id": "af053f8bfde949d5b191b8ae4cf9f228"
            }
          },
          "metadata": {}
        }
      ]
    },
    {
      "cell_type": "markdown",
      "source": [
        "Audio"
      ],
      "metadata": {
        "id": "mjDP97BK3Dwj"
      }
    },
    {
      "cell_type": "code",
      "source": [
        "hf_model_identifier = \"pabloorlw/audio_model\"\n",
        "filename = \"audio_model.zip\"\n",
        "\n",
        "file_path = hf_hub_download(\n",
        "    repo_id=hf_model_identifier,\n",
        "    filename=filename,\n",
        "    repo_type=\"model\",\n",
        ")\n",
        "\n",
        "!unzip -q {file_path}\n",
        "\n",
        "%cd {HOME}"
      ],
      "metadata": {
        "colab": {
          "base_uri": "https://localhost:8080/",
          "height": 115,
          "referenced_widgets": [
            "4a631d12fbe74c108d00e0f62146e0f3",
            "0da5f09679774cc7b96ea514fdbe0065",
            "f41e5aa07cc2496eafd0383254746c30",
            "981ebafc752346e388a8787156ba269c",
            "2cd3e4c2d7994d748dcc8c337a51b86d",
            "eb0f0ea7818641fa9b298d223efa5b72",
            "b5aabdeb0f92487f9a4dfb48d5e48a2e",
            "a0479069d68e4adb95cc7ae2a0de2760",
            "3318f64430264ccd92fd3ca42e065268",
            "92adb8c951b94a4584fa890fa4dcb9ff",
            "5d6d867e02d246138782e7b71fad4fab"
          ]
        },
        "id": "YOyEOEzW3FIs",
        "outputId": "3b00e57b-2003-41c9-bd3a-9c2dbc8fef09"
      },
      "execution_count": null,
      "outputs": [
        {
          "output_type": "display_data",
          "data": {
            "text/plain": [
              "audio_model.zip:   0%|          | 0.00/1.17G [00:00<?, ?B/s]"
            ],
            "application/vnd.jupyter.widget-view+json": {
              "version_major": 2,
              "version_minor": 0,
              "model_id": "4a631d12fbe74c108d00e0f62146e0f3"
            }
          },
          "metadata": {}
        },
        {
          "output_type": "stream",
          "name": "stdout",
          "text": [
            "/content\n"
          ]
        }
      ]
    },
    {
      "cell_type": "markdown",
      "source": [
        "# Configuración inicial"
      ],
      "metadata": {
        "id": "CItiy6GwOPJJ"
      }
    },
    {
      "cell_type": "code",
      "source": [
        "COMMON_EMOTIONS = ['joy', 'sadness', 'anger', 'fear', 'surprise']\n",
        "\n",
        "CSV_PATH = \"data/MELD_text/test_sent_emo.csv\"\n",
        "AUDIO_DATA_DIR = \"data/MELD_audio\"\n",
        "\n",
        "TEXT_MODEL_PATH = \"models/text_model\"\n",
        "AUDIO_MODEL_PATH = \"models/audio_model\"\n",
        "\n",
        "SAMPLE_RATE = 16000\n",
        "\n",
        "SEED = 42\n",
        "\n",
        "random.seed(SEED)\n",
        "np.random.seed(SEED)\n",
        "torch.manual_seed(SEED)\n",
        "torch.cuda.manual_seed_all(SEED)\n",
        "torch.backends.cudnn.deterministic = True\n",
        "torch.backends.cudnn.benchmark = False"
      ],
      "metadata": {
        "id": "X1WhbyeAOURX"
      },
      "execution_count": null,
      "outputs": []
    },
    {
      "cell_type": "markdown",
      "source": [
        "# Evaluando el modelo de texto en MELD"
      ],
      "metadata": {
        "id": "QGsYz0iPv4KM"
      }
    },
    {
      "cell_type": "code",
      "source": [
        "# Tokenizer\n",
        "tokenizer = DistilBertTokenizer.from_pretrained(TEXT_MODEL_PATH)\n",
        "text_model = DistilBertForSequenceClassification.from_pretrained(TEXT_MODEL_PATH)\n",
        "text_model.eval()\n",
        "\n",
        "device = torch.device(\"cuda\" if torch.cuda.is_available() else \"cpu\")\n",
        "text_model.to(device)"
      ],
      "metadata": {
        "colab": {
          "base_uri": "https://localhost:8080/"
        },
        "id": "I9q7Xc3a7UWv",
        "outputId": "3ab49ea7-1db6-48c5-99c7-1fa756758f09"
      },
      "execution_count": null,
      "outputs": [
        {
          "output_type": "execute_result",
          "data": {
            "text/plain": [
              "DistilBertForSequenceClassification(\n",
              "  (distilbert): DistilBertModel(\n",
              "    (embeddings): Embeddings(\n",
              "      (word_embeddings): Embedding(30522, 768, padding_idx=0)\n",
              "      (position_embeddings): Embedding(512, 768)\n",
              "      (LayerNorm): LayerNorm((768,), eps=1e-12, elementwise_affine=True)\n",
              "      (dropout): Dropout(p=0.1, inplace=False)\n",
              "    )\n",
              "    (transformer): Transformer(\n",
              "      (layer): ModuleList(\n",
              "        (0-5): 6 x TransformerBlock(\n",
              "          (attention): DistilBertSdpaAttention(\n",
              "            (dropout): Dropout(p=0.1, inplace=False)\n",
              "            (q_lin): Linear(in_features=768, out_features=768, bias=True)\n",
              "            (k_lin): Linear(in_features=768, out_features=768, bias=True)\n",
              "            (v_lin): Linear(in_features=768, out_features=768, bias=True)\n",
              "            (out_lin): Linear(in_features=768, out_features=768, bias=True)\n",
              "          )\n",
              "          (sa_layer_norm): LayerNorm((768,), eps=1e-12, elementwise_affine=True)\n",
              "          (ffn): FFN(\n",
              "            (dropout): Dropout(p=0.1, inplace=False)\n",
              "            (lin1): Linear(in_features=768, out_features=3072, bias=True)\n",
              "            (lin2): Linear(in_features=3072, out_features=768, bias=True)\n",
              "            (activation): GELUActivation()\n",
              "          )\n",
              "          (output_layer_norm): LayerNorm((768,), eps=1e-12, elementwise_affine=True)\n",
              "        )\n",
              "      )\n",
              "    )\n",
              "  )\n",
              "  (pre_classifier): Linear(in_features=768, out_features=768, bias=True)\n",
              "  (classifier): Linear(in_features=768, out_features=5, bias=True)\n",
              "  (dropout): Dropout(p=0.2, inplace=False)\n",
              ")"
            ]
          },
          "metadata": {},
          "execution_count": 10
        }
      ]
    },
    {
      "cell_type": "code",
      "source": [
        "# Cargar las etiquetas originales del modelo\n",
        "with open(os.path.join(TEXT_MODEL_PATH, \"label_encoder.json\")) as f:\n",
        "    label_info = json.load(f)\n",
        "\n",
        "emotions_id2label = {int(k): v for k, v in label_info[\"id2label\"].items()}\n",
        "emotions_label2id = label_info[\"label2id\"]"
      ],
      "metadata": {
        "colab": {
          "base_uri": "https://localhost:8080/"
        },
        "id": "vDZOghtVW54U",
        "outputId": "af0f5096-1d45-46dc-b916-85374dce19f1"
      },
      "execution_count": null,
      "outputs": [
        {
          "output_type": "stream",
          "name": "stdout",
          "text": [
            "{0: 'sadness', 1: 'joy', 2: 'anger', 3: 'fear', 4: 'surprise'}\n",
            "{'sadness': 0, 'joy': 1, 'anger': 2, 'fear': 3, 'surprise': 4}\n"
          ]
        }
      ]
    },
    {
      "cell_type": "code",
      "source": [
        "# Mapeo de Emotions a MELD\n",
        "EMOTIONS_TO_MELD = {\n",
        "    \"joy\": \"joy\",\n",
        "    \"sadness\": \"sadness\",\n",
        "    \"anger\": \"anger\",\n",
        "    \"fear\": \"fear\",\n",
        "    \"surprise\": \"surprise\"\n",
        "}\n",
        "\n",
        "MELD_LABELS = list(EMOTIONS_TO_MELD.values())\n",
        "MELD_LABEL2ID = {label: i for i, label in enumerate(MELD_LABELS)}"
      ],
      "metadata": {
        "id": "EZNAd7DfW7_r",
        "colab": {
          "base_uri": "https://localhost:8080/"
        },
        "outputId": "3b0348c5-d76a-47f7-9cd9-c4b218f75e9a"
      },
      "execution_count": null,
      "outputs": [
        {
          "output_type": "stream",
          "name": "stdout",
          "text": [
            "['joy', 'sadness', 'anger', 'fear', 'surprise']\n",
            "{'joy': 0, 'sadness': 1, 'anger': 2, 'fear': 3, 'surprise': 4}\n"
          ]
        }
      ]
    },
    {
      "cell_type": "code",
      "source": [
        "# Cargar datos de texto de MELD\n",
        "df = pd.read_csv(CSV_PATH)\n",
        "X_test = df[\"Utterance\"].tolist()\n",
        "y_true_raw = df[\"Emotion\"].tolist()\n",
        "\n",
        "# Filtrar solo las emociones mapeables en X_test\n",
        "filtered_texts, y_true = [], []\n",
        "for text, label in zip(X_test, y_true_raw):\n",
        "    if label in MELD_LABEL2ID:\n",
        "        filtered_texts.append(text)\n",
        "        # y_true tiene las IDs de las etiquetas MELD\n",
        "        y_true.append(MELD_LABEL2ID[label])\n",
        "X_test = filtered_texts"
      ],
      "metadata": {
        "id": "PzsVP5QiW8m-"
      },
      "execution_count": null,
      "outputs": []
    },
    {
      "cell_type": "code",
      "source": [
        "# Predicción\n",
        "def predict(model, tokenizer, texts):\n",
        "    preds = []\n",
        "    for text in texts:\n",
        "        inputs = tokenizer(text, return_tensors=\"pt\", truncation=True, padding=True).to(device)\n",
        "        with torch.no_grad():\n",
        "            logits = model(**inputs).logits\n",
        "        pred = torch.argmax(logits, dim=1).item()\n",
        "        preds.append(pred)\n",
        "    return preds\n",
        "\n",
        "# raw_preds tiene los IDs de las labels de Emotions\n",
        "raw_preds = predict(text_model, tokenizer, X_test)\n",
        "\n",
        "# Mapear predicciones de Emotions a MELD\n",
        "mapped_preds = []\n",
        "mapped_labels = []\n",
        "for pred, true in zip(raw_preds, y_true):\n",
        "    pred_label = emotions_id2label[pred]\n",
        "    if pred_label in EMOTIONS_TO_MELD:\n",
        "        mapped_preds.append(MELD_LABEL2ID[EMOTIONS_TO_MELD[pred_label]])\n",
        "        mapped_labels.append(true)"
      ],
      "metadata": {
        "id": "rJNj3udaXAbb"
      },
      "execution_count": null,
      "outputs": []
    },
    {
      "cell_type": "code",
      "source": [
        "# Reporte\n",
        "print(classification_report(mapped_labels, mapped_preds, target_names=MELD_LABELS))\n",
        "\n",
        "# Matriz de confusión\n",
        "cm = confusion_matrix(mapped_labels, mapped_preds)\n",
        "sns.heatmap(cm, annot=True, fmt=\"d\", xticklabels=MELD_LABELS, yticklabels=MELD_LABELS, cmap=\"Blues\")\n",
        "plt.xlabel(\"Predicho\")\n",
        "plt.ylabel(\"Real\")\n",
        "plt.title(\"Matriz de Confusión (Texto)\")\n",
        "plt.show()"
      ],
      "metadata": {
        "colab": {
          "base_uri": "https://localhost:8080/",
          "height": 684
        },
        "id": "POZxsMTkTgEJ",
        "outputId": "c013cf26-e248-4ba8-bccf-542e53a572da"
      },
      "execution_count": null,
      "outputs": [
        {
          "output_type": "stream",
          "name": "stdout",
          "text": [
            "              precision    recall  f1-score   support\n",
            "\n",
            "         joy       0.54      0.67      0.60       402\n",
            "     sadness       0.52      0.27      0.35       208\n",
            "       anger       0.35      0.59      0.44       345\n",
            "        fear       0.09      0.12      0.10        50\n",
            "    surprise       0.52      0.05      0.08       281\n",
            "\n",
            "    accuracy                           0.43      1286\n",
            "   macro avg       0.40      0.34      0.32      1286\n",
            "weighted avg       0.46      0.43      0.39      1286\n",
            "\n"
          ]
        },
        {
          "output_type": "display_data",
          "data": {
            "text/plain": [
              "<Figure size 640x480 with 2 Axes>"
            ],
            "image/png": "[encoded data removed]"
          },
          "metadata": {}
        }
      ]
    },
    {
      "cell_type": "markdown",
      "source": [
        "# Evaluando el modelo de audio en MELD"
      ],
      "metadata": {
        "id": "HMk32gQiv6Nx"
      }
    },
    {
      "cell_type": "code",
      "source": [
        "# Feature extractor\n",
        "feature_extractor = Wav2Vec2FeatureExtractor.from_pretrained(AUDIO_MODEL_PATH)\n",
        "audio_model = Wav2Vec2ForSequenceClassification.from_pretrained(AUDIO_MODEL_PATH)\n",
        "audio_model.eval()\n",
        "\n",
        "device = torch.device(\"cuda\" if torch.cuda.is_available() else \"cpu\")\n",
        "audio_model.to(device)"
      ],
      "metadata": {
        "colab": {
          "base_uri": "https://localhost:8080/"
        },
        "id": "dH1Jm0L39YFY",
        "outputId": "aac33923-6b07-43ee-f76c-d25bd38b91d1"
      },
      "execution_count": null,
      "outputs": [
        {
          "output_type": "execute_result",
          "data": {
            "text/plain": [
              "Wav2Vec2ForSequenceClassification(\n",
              "  (wav2vec2): Wav2Vec2Model(\n",
              "    (feature_extractor): Wav2Vec2FeatureEncoder(\n",
              "      (conv_layers): ModuleList(\n",
              "        (0): Wav2Vec2LayerNormConvLayer(\n",
              "          (conv): Conv1d(1, 512, kernel_size=(10,), stride=(5,))\n",
              "          (layer_norm): LayerNorm((512,), eps=1e-05, elementwise_affine=True)\n",
              "          (activation): GELUActivation()\n",
              "        )\n",
              "        (1-4): 4 x Wav2Vec2LayerNormConvLayer(\n",
              "          (conv): Conv1d(512, 512, kernel_size=(3,), stride=(2,))\n",
              "          (layer_norm): LayerNorm((512,), eps=1e-05, elementwise_affine=True)\n",
              "          (activation): GELUActivation()\n",
              "        )\n",
              "        (5-6): 2 x Wav2Vec2LayerNormConvLayer(\n",
              "          (conv): Conv1d(512, 512, kernel_size=(2,), stride=(2,))\n",
              "          (layer_norm): LayerNorm((512,), eps=1e-05, elementwise_affine=True)\n",
              "          (activation): GELUActivation()\n",
              "        )\n",
              "      )\n",
              "    )\n",
              "    (feature_projection): Wav2Vec2FeatureProjection(\n",
              "      (layer_norm): LayerNorm((512,), eps=1e-05, elementwise_affine=True)\n",
              "      (projection): Linear(in_features=512, out_features=1024, bias=True)\n",
              "      (dropout): Dropout(p=0.05, inplace=False)\n",
              "    )\n",
              "    (encoder): Wav2Vec2EncoderStableLayerNorm(\n",
              "      (pos_conv_embed): Wav2Vec2PositionalConvEmbedding(\n",
              "        (conv): ParametrizedConv1d(\n",
              "          1024, 1024, kernel_size=(128,), stride=(1,), padding=(64,), groups=16\n",
              "          (parametrizations): ModuleDict(\n",
              "            (weight): ParametrizationList(\n",
              "              (0): _WeightNorm()\n",
              "            )\n",
              "          )\n",
              "        )\n",
              "        (padding): Wav2Vec2SamePadLayer()\n",
              "        (activation): GELUActivation()\n",
              "      )\n",
              "      (layer_norm): LayerNorm((1024,), eps=1e-05, elementwise_affine=True)\n",
              "      (dropout): Dropout(p=0.05, inplace=False)\n",
              "      (layers): ModuleList(\n",
              "        (0-23): 24 x Wav2Vec2EncoderLayerStableLayerNorm(\n",
              "          (attention): Wav2Vec2SdpaAttention(\n",
              "            (k_proj): Linear(in_features=1024, out_features=1024, bias=True)\n",
              "            (v_proj): Linear(in_features=1024, out_features=1024, bias=True)\n",
              "            (q_proj): Linear(in_features=1024, out_features=1024, bias=True)\n",
              "            (out_proj): Linear(in_features=1024, out_features=1024, bias=True)\n",
              "          )\n",
              "          (dropout): Dropout(p=0.05, inplace=False)\n",
              "          (layer_norm): LayerNorm((1024,), eps=1e-05, elementwise_affine=True)\n",
              "          (feed_forward): Wav2Vec2FeedForward(\n",
              "            (intermediate_dropout): Dropout(p=0.05, inplace=False)\n",
              "            (intermediate_dense): Linear(in_features=1024, out_features=4096, bias=True)\n",
              "            (intermediate_act_fn): GELUActivation()\n",
              "            (output_dense): Linear(in_features=4096, out_features=1024, bias=True)\n",
              "            (output_dropout): Dropout(p=0.05, inplace=False)\n",
              "          )\n",
              "          (final_layer_norm): LayerNorm((1024,), eps=1e-05, elementwise_affine=True)\n",
              "        )\n",
              "      )\n",
              "    )\n",
              "  )\n",
              "  (projector): Linear(in_features=1024, out_features=256, bias=True)\n",
              "  (classifier): Linear(in_features=256, out_features=5, bias=True)\n",
              ")"
            ]
          },
          "metadata": {},
          "execution_count": 17
        }
      ]
    },
    {
      "cell_type": "code",
      "source": [
        "# Cargar las etiquetas originales del modelo\n",
        "with open(os.path.join(AUDIO_MODEL_PATH, \"label_encoder.json\")) as f:\n",
        "    label_info = json.load(f)\n",
        "\n",
        "ravdess_label2id = label_info\n",
        "ravdess_id2label = {v: k for k, v in ravdess_label2id.items()}"
      ],
      "metadata": {
        "id": "PoBafnohXiY-"
      },
      "execution_count": null,
      "outputs": []
    },
    {
      "cell_type": "code",
      "source": [
        "# Mapeo de RAVDESS a MELD\n",
        "RAVDESS_TO_MELD = {\n",
        "    \"happy\": \"joy\",\n",
        "    \"sad\": \"sadness\",\n",
        "    \"angry\": \"anger\",\n",
        "    \"fearful\": \"fear\",\n",
        "    \"surprised\": \"surprise\"\n",
        "}\n",
        "MELD_LABELS = list(RAVDESS_TO_MELD.values())\n",
        "MELD_LABEL2ID = {label: i for i, label in enumerate(MELD_LABELS)}"
      ],
      "metadata": {
        "id": "6fu_9XlfXjpq"
      },
      "execution_count": null,
      "outputs": []
    },
    {
      "cell_type": "code",
      "source": [
        "# Cargar datos de audio MELD\n",
        "df = pd.read_csv(CSV_PATH)\n",
        "X_paths, y_true = [], []\n",
        "for _, row in df.iterrows():\n",
        "    file_name = f\"dia{row['Dialogue_ID']}_utt{row['Utterance_ID']}.wav\"\n",
        "    path = AUDIO_DATA_DIR + \"/test/\" + file_name\n",
        "    if row[\"Emotion\"] in MELD_LABEL2ID:\n",
        "        X_paths.append(path)\n",
        "        y_true.append(MELD_LABEL2ID[row[\"Emotion\"]])"
      ],
      "metadata": {
        "id": "wmy3YdDuXnc8"
      },
      "execution_count": null,
      "outputs": []
    },
    {
      "cell_type": "code",
      "source": [
        "# Predicción\n",
        "def predict_audio(model, extractor, paths):\n",
        "    preds = []\n",
        "    for path in paths:\n",
        "        waveform, sr = torchaudio.load(path)\n",
        "        if sr != SAMPLE_RATE:\n",
        "            waveform = torchaudio.functional.resample(waveform, sr, SAMPLE_RATE)\n",
        "        inputs = extractor(waveform.squeeze().numpy(), sampling_rate=SAMPLE_RATE, return_tensors=\"pt\", padding=True).to(device)\n",
        "        with torch.no_grad():\n",
        "            logits = model(**inputs).logits\n",
        "        pred = torch.argmax(logits, dim=1).item()\n",
        "        preds.append(pred)\n",
        "    return preds\n",
        "\n",
        "raw_preds = predict_audio(audio_model, feature_extractor, X_paths)\n",
        "\n",
        "# Mapear predicciones de RAVDESS a MELD\n",
        "mapped_preds, mapped_labels = [], []\n",
        "for pred, true in zip(raw_preds, y_true):\n",
        "    pred_label = ravdess_id2label[pred]\n",
        "    if pred_label in RAVDESS_TO_MELD:\n",
        "        mapped_preds.append(MELD_LABEL2ID[RAVDESS_TO_MELD[pred_label]])\n",
        "        mapped_labels.append(true)"
      ],
      "metadata": {
        "id": "VQEiWmi5Xpe1"
      },
      "execution_count": null,
      "outputs": []
    },
    {
      "cell_type": "code",
      "source": [
        "# Reporte\n",
        "print(classification_report(mapped_labels, mapped_preds, target_names=MELD_LABELS))\n",
        "\n",
        "# Matriz de confusión\n",
        "cm = confusion_matrix(mapped_labels, mapped_preds)\n",
        "sns.heatmap(cm, annot=True, xticklabels=MELD_LABELS, yticklabels=MELD_LABELS, cmap=\"Blues\", fmt=\"d\")\n",
        "plt.xlabel(\"Predicho\")\n",
        "plt.ylabel(\"Real\")\n",
        "plt.title(\"Matriz de Confusión (Audio)\")\n",
        "plt.show()"
      ],
      "metadata": {
        "colab": {
          "base_uri": "https://localhost:8080/",
          "height": 684
        },
        "id": "iRjoQ1nXVPMO",
        "outputId": "813b5d1e-d6eb-479c-c5f1-8f65ec40bbc6"
      },
      "execution_count": null,
      "outputs": [
        {
          "output_type": "stream",
          "name": "stdout",
          "text": [
            "              precision    recall  f1-score   support\n",
            "\n",
            "         joy       0.39      0.34      0.36       402\n",
            "     sadness       0.31      0.14      0.20       208\n",
            "       anger       0.51      0.28      0.36       345\n",
            "        fear       0.06      0.20      0.10        50\n",
            "    surprise       0.31      0.54      0.39       281\n",
            "\n",
            "    accuracy                           0.33      1286\n",
            "   macro avg       0.32      0.30      0.28      1286\n",
            "weighted avg       0.38      0.33      0.33      1286\n",
            "\n"
          ]
        },
        {
          "output_type": "display_data",
          "data": {
            "text/plain": [
              "<Figure size 640x480 with 2 Axes>"
            ],
            "image/png": "[encoded data removed]"
          },
          "metadata": {}
        }
      ]
    },
    {
      "cell_type": "markdown",
      "source": [
        "# Estrategias de fusión multimodal"
      ],
      "metadata": {
        "id": "swXCYnX2WLhN"
      }
    },
    {
      "cell_type": "markdown",
      "source": [
        "Obtención de las probabilidades de los modelos de texto y audio"
      ],
      "metadata": {
        "id": "PRdxYyNlKtWx"
      }
    },
    {
      "cell_type": "code",
      "source": [
        "def get_text_probs(model, tokenizer, texts):\n",
        "    probs = []\n",
        "    for text in texts:\n",
        "        inputs = tokenizer(text, return_tensors=\"pt\", truncation=True, padding=True).to(device)\n",
        "        with torch.no_grad():\n",
        "            logits = model(**inputs).logits\n",
        "        prob = F.softmax(logits, dim=1).squeeze().cpu().numpy()\n",
        "        probs.append(prob)\n",
        "    return np.array(probs)\n",
        "\n",
        "print(get_text_probs(text_model, tokenizer,[\"This is a fantastic test.\"]))\n",
        "\n",
        "text_probs = get_text_probs(text_model, tokenizer, X_test)"
      ],
      "metadata": {
        "colab": {
          "base_uri": "https://localhost:8080/"
        },
        "id": "M_an8HlHK1IV",
        "outputId": "08b155f2-5311-4aa5-f9f1-575ad95cb08d"
      },
      "execution_count": null,
      "outputs": [
        {
          "output_type": "stream",
          "name": "stdout",
          "text": [
            "[[2.8685492e-04 9.9804521e-01 1.8482597e-04 1.9305697e-04 1.2899494e-03]]\n"
          ]
        }
      ]
    },
    {
      "cell_type": "code",
      "source": [
        "def get_audio_probs(model, extractor, paths):\n",
        "    probs = []\n",
        "    for path in paths:\n",
        "        waveform, sr = torchaudio.load(path)\n",
        "        if sr != SAMPLE_RATE:\n",
        "            waveform = torchaudio.functional.resample(waveform, sr, SAMPLE_RATE)\n",
        "        inputs = extractor(waveform.squeeze().numpy(), sampling_rate=SAMPLE_RATE, return_tensors=\"pt\", padding=True).to(device)\n",
        "        with torch.no_grad():\n",
        "            logits = model(**inputs).logits\n",
        "        prob = F.softmax(logits, dim=1).squeeze().cpu().numpy()\n",
        "        probs.append(prob)\n",
        "    return np.array(probs)\n",
        "\n",
        "print(get_audio_probs(audio_model, feature_extractor, [AUDIO_DATA_DIR + \"/test/dia134_utt3.wav\"]))\n",
        "\n",
        "audio_probs = get_audio_probs(audio_model, feature_extractor, X_paths)"
      ],
      "metadata": {
        "colab": {
          "base_uri": "https://localhost:8080/"
        },
        "id": "LZLO6N9pK382",
        "outputId": "7e3d6511-2cab-4ca6-f257-2fb6e68874b4"
      },
      "execution_count": null,
      "outputs": [
        {
          "output_type": "stream",
          "name": "stdout",
          "text": [
            "[[9.9341571e-01 3.0134798e-03 6.4934517e-04 1.1692795e-03 1.7521697e-03]]\n"
          ]
        }
      ]
    },
    {
      "cell_type": "markdown",
      "source": [
        "Fusión mediante voto mayoritario"
      ],
      "metadata": {
        "id": "ZSerL1SLLVwe"
      }
    },
    {
      "cell_type": "code",
      "source": [
        "def majority_voting_fusion(text_probs, audio_probs):\n",
        "    text_preds = np.argmax(text_probs, axis=1)\n",
        "    audio_preds = np.argmax(audio_probs, axis=1)\n",
        "    fused_preds = []\n",
        "    for i in range(len(text_preds)):\n",
        "        if text_preds[i] == audio_preds[i]:\n",
        "            fused_preds.append(text_preds[i])\n",
        "        else:\n",
        "            # ssi hay desacuerdo, comparamos las probabilidades maxs\n",
        "            text_max_prob = np.max(text_probs[i])\n",
        "            audio_max_prob = np.max(audio_probs[i])\n",
        "            if text_max_prob > audio_max_prob:\n",
        "                fused_preds.append(text_preds[i])\n",
        "            elif audio_max_prob > text_max_prob:\n",
        "                fused_preds.append(audio_preds[i])\n",
        "            else:\n",
        "                # si las probabilidades maxs también son iguales,\n",
        "                # elegimos texto por defecto\n",
        "                fused_preds.append(text_preds[i])\n",
        "    return fused_preds\n",
        "\n",
        "y_pred = majority_voting_fusion(text_probs, audio_probs)\n",
        "\n",
        "# Reporte\n",
        "print(classification_report(mapped_labels, y_pred, target_names=MELD_LABELS))\n",
        "\n",
        "# Matriz de confusión\n",
        "cm = confusion_matrix(mapped_labels, y_pred)\n",
        "sns.heatmap(cm, annot=True, fmt=\"d\", xticklabels=MELD_LABELS, yticklabels=MELD_LABELS, cmap=\"Blues\")\n",
        "plt.xlabel(\"Predicho\")\n",
        "plt.ylabel(\"Real\")\n",
        "plt.title(f\"Matriz de Confusión - Voto mayoritario\")\n",
        "plt.show()"
      ],
      "metadata": {
        "colab": {
          "base_uri": "https://localhost:8080/",
          "height": 684
        },
        "id": "9Wnr856RLdE6",
        "outputId": "9a12cc90-c18b-48fa-bea4-4e2814e5b17c"
      },
      "execution_count": null,
      "outputs": [
        {
          "output_type": "stream",
          "name": "stdout",
          "text": [
            "              precision    recall  f1-score   support\n",
            "\n",
            "         joy       0.17      0.08      0.11       402\n",
            "     sadness       0.16      0.24      0.19       208\n",
            "       anger       0.32      0.31      0.31       345\n",
            "        fear       0.05      0.08      0.06        50\n",
            "    surprise       0.37      0.48      0.42       281\n",
            "\n",
            "    accuracy                           0.26      1286\n",
            "   macro avg       0.21      0.24      0.22      1286\n",
            "weighted avg       0.25      0.26      0.24      1286\n",
            "\n"
          ]
        },
        {
          "output_type": "display_data",
          "data": {
            "text/plain": [
              "<Figure size 640x480 with 2 Axes>"
            ],
            "image/png": "[encoded data removed]"
          },
          "metadata": {}
        }
      ]
    },
    {
      "cell_type": "markdown",
      "source": [
        "Fusión mediante media aritmética"
      ],
      "metadata": {
        "id": "vOvm0LaVLe1G"
      }
    },
    {
      "cell_type": "code",
      "source": [
        "def global_average_fusion(text_probs, audio_probs):\n",
        "    fused_probs = (text_probs + audio_probs) / 2\n",
        "    return np.argmax(fused_probs, axis=1)\n",
        "\n",
        "y_pred = global_average_fusion(text_probs, audio_probs)\n",
        "\n",
        "# Reporte\n",
        "print(classification_report(mapped_labels, y_pred, target_names=MELD_LABELS))\n",
        "\n",
        "# Matriz de confusión\n",
        "cm = confusion_matrix(mapped_labels, y_pred)\n",
        "sns.heatmap(cm, annot=True, fmt=\"d\", xticklabels=MELD_LABELS, yticklabels=MELD_LABELS, cmap=\"Blues\")\n",
        "plt.xlabel(\"Predicho\")\n",
        "plt.ylabel(\"Real\")\n",
        "plt.title(f\"Matriz de Confusión - Media aritmética\")\n",
        "plt.show()"
      ],
      "metadata": {
        "colab": {
          "base_uri": "https://localhost:8080/",
          "height": 684
        },
        "id": "qgMI43FqLeTZ",
        "outputId": "94f286d9-10c7-410a-a7df-816b486d499c"
      },
      "execution_count": null,
      "outputs": [
        {
          "output_type": "stream",
          "name": "stdout",
          "text": [
            "              precision    recall  f1-score   support\n",
            "\n",
            "         joy       0.17      0.08      0.11       402\n",
            "     sadness       0.16      0.24      0.19       208\n",
            "       anger       0.32      0.32      0.32       345\n",
            "        fear       0.04      0.06      0.05        50\n",
            "    surprise       0.37      0.47      0.42       281\n",
            "\n",
            "    accuracy                           0.26      1286\n",
            "   macro avg       0.21      0.23      0.22      1286\n",
            "weighted avg       0.25      0.26      0.24      1286\n",
            "\n"
          ]
        },
        {
          "output_type": "display_data",
          "data": {
            "text/plain": [
              "<Figure size 640x480 with 2 Axes>"
            ],
            "image/png": "[encoded data removed]"
          },
          "metadata": {}
        }
      ]
    },
    {
      "cell_type": "markdown",
      "source": [
        "Fusión mediante media ponderada"
      ],
      "metadata": {
        "id": "kySmDijvLmYu"
      }
    },
    {
      "cell_type": "code",
      "source": [
        "def weighted_average_fusion(text_probs, audio_probs, alpha):\n",
        "    fused_probs = alpha * text_probs + (1 - alpha) * audio_probs\n",
        "    return np.argmax(fused_probs, axis=1)\n",
        "\n",
        "for alpha in [0.2, 0.6, 0.8]:\n",
        "    print(f\"\\n Promedio ponderado con α = {alpha}\")\n",
        "    # Reporte\n",
        "    y_pred = weighted_average_fusion(text_probs, audio_probs, alpha=alpha)\n",
        "    print(classification_report(mapped_labels, y_pred, target_names=MELD_LABELS))\n",
        "\n",
        "    # Matriz de confusión\n",
        "    cm = confusion_matrix(mapped_labels, y_pred)\n",
        "    sns.heatmap(cm, annot=True, fmt=\"d\", xticklabels=MELD_LABELS, yticklabels=MELD_LABELS, cmap=\"Blues\")\n",
        "    plt.xlabel(\"Predicho\")\n",
        "    plt.ylabel(\"Real\")\n",
        "    plt.title(f\"Matriz de Confusión (Media Ponderada α={alpha})\")\n",
        "    plt.show()"
      ],
      "metadata": {
        "colab": {
          "base_uri": "https://localhost:8080/",
          "height": 1000
        },
        "id": "NeOBwIEVLpZH",
        "outputId": "a7496017-6a89-4b3d-b701-10682ae4bfdf"
      },
      "execution_count": null,
      "outputs": [
        {
          "output_type": "stream",
          "name": "stdout",
          "text": [
            "\n",
            " Promedio ponderado con α = 0.2\n",
            "              precision    recall  f1-score   support\n",
            "\n",
            "         joy       0.18      0.08      0.12       402\n",
            "     sadness       0.18      0.14      0.16       208\n",
            "       anger       0.21      0.21      0.21       345\n",
            "        fear       0.02      0.04      0.03        50\n",
            "    surprise       0.31      0.53      0.39       281\n",
            "\n",
            "    accuracy                           0.22      1286\n",
            "   macro avg       0.18      0.20      0.18      1286\n",
            "weighted avg       0.21      0.22      0.20      1286\n",
            "\n"
          ]
        },
        {
          "output_type": "display_data",
          "data": {
            "text/plain": [
              "<Figure size 640x480 with 2 Axes>"
            ],
            "image/png": "[encoded data removed]"
          },
          "metadata": {}
        },
        {
          "output_type": "stream",
          "name": "stdout",
          "text": [
            "\n",
            " Promedio ponderado con α = 0.6\n",
            "              precision    recall  f1-score   support\n",
            "\n",
            "         joy       0.16      0.05      0.08       402\n",
            "     sadness       0.14      0.29      0.19       208\n",
            "       anger       0.36      0.57      0.44       345\n",
            "        fear       0.08      0.10      0.09        50\n",
            "    surprise       0.41      0.17      0.24       281\n",
            "\n",
            "    accuracy                           0.26      1286\n",
            "   macro avg       0.23      0.23      0.21      1286\n",
            "weighted avg       0.26      0.26      0.23      1286\n",
            "\n"
          ]
        },
        {
          "output_type": "display_data",
          "data": {
            "text/plain": [
              "<Figure size 640x480 with 2 Axes>"
            ],
            "image/png": "[encoded data removed]"
          },
          "metadata": {}
        },
        {
          "output_type": "stream",
          "name": "stdout",
          "text": [
            "\n",
            " Promedio ponderado con α = 0.8\n",
            "              precision    recall  f1-score   support\n",
            "\n",
            "         joy       0.12      0.03      0.05       402\n",
            "     sadness       0.14      0.32      0.19       208\n",
            "       anger       0.35      0.60      0.44       345\n",
            "        fear       0.09      0.12      0.10        50\n",
            "    surprise       0.52      0.05      0.09       281\n",
            "\n",
            "    accuracy                           0.24      1286\n",
            "   macro avg       0.24      0.23      0.18      1286\n",
            "weighted avg       0.27      0.24      0.19      1286\n",
            "\n"
          ]
        },
        {
          "output_type": "display_data",
          "data": {
            "text/plain": [
              "<Figure size 640x480 with 2 Axes>"
            ],
            "image/png": "[encoded data removed]"
          },
          "metadata": {}
        }
      ]
    },
    {
      "cell_type": "markdown",
      "source": [
        "Fusión mediante regresión logística"
      ],
      "metadata": {
        "id": "itY6zkfWteSM"
      }
    },
    {
      "cell_type": "code",
      "source": [
        "def load_and_process_split(csv_path, audio_dir, text_model, tokenizer, audio_model, extractor):\n",
        "    df = pd.read_csv(csv_path)\n",
        "    X_text, X_audio, y = [], [], []\n",
        "\n",
        "    for _, row in df.iterrows():\n",
        "        emotion = row[\"Emotion\"]\n",
        "        if emotion not in MELD_LABEL2ID:\n",
        "            continue\n",
        "\n",
        "        # Texto\n",
        "        X_text.append(row[\"Utterance\"])\n",
        "\n",
        "        # Audio path\n",
        "        file_name = f\"dia{row['Dialogue_ID']}_utt{row['Utterance_ID']}.wav\"\n",
        "        audio_path = os.path.join(audio_dir, file_name)\n",
        "        X_audio.append(audio_path)\n",
        "\n",
        "        # Etiqueta\n",
        "        y.append(MELD_LABEL2ID[emotion])\n",
        "\n",
        "    # Obtener probabilidades\n",
        "    text_probs = get_text_probs(text_model, tokenizer, X_text)\n",
        "    audio_probs = get_audio_probs(audio_model, extractor, X_audio)\n",
        "\n",
        "    # Concatenar características\n",
        "    X = np.hstack([text_probs, audio_probs])\n",
        "    y = np.array(y)\n",
        "\n",
        "    return X, y\n"
      ],
      "metadata": {
        "id": "jdKcwHgmsSti"
      },
      "execution_count": null,
      "outputs": []
    },
    {
      "cell_type": "code",
      "source": [
        "# Rutas\n",
        "CSV_TRAIN = \"data/MELD_text/train_sent_emo.csv\"\n",
        "CSV_VAL = \"data/MELD_text/dev_sent_emo.csv\"\n",
        "CSV_TEST = \"data/MELD_text/test_sent_emo.csv\"\n",
        "\n",
        "# Cargar datos\n",
        "X_train, y_train = load_and_process_split(CSV_TRAIN, os.path.join(AUDIO_DATA_DIR, \"train\"), text_model, tokenizer, audio_model, feature_extractor)\n",
        "X_val, y_val = load_and_process_split(CSV_VAL, os.path.join(AUDIO_DATA_DIR, \"dev\"), text_model, tokenizer, audio_model, feature_extractor)\n",
        "X_test, y_test = load_and_process_split(CSV_TEST, os.path.join(AUDIO_DATA_DIR, \"test\"), text_model, tokenizer, audio_model, feature_extractor)\n",
        "\n",
        "# Combinar train + val\n",
        "X_fusion_train = np.vstack([X_train, X_val])\n",
        "y_fusion_train = np.concatenate([y_train, y_val])\n",
        "\n",
        "# Entrenar regresión logística\n",
        "fusion_model = LogisticRegression(max_iter=1000)\n",
        "fusion_model.fit(X_fusion_train, y_fusion_train)\n",
        "\n",
        "# Evaluar en test\n",
        "y_pred = fusion_model.predict(X_test)\n",
        "\n",
        "print(classification_report(y_test, y_pred, target_names=MELD_LABELS))\n",
        "cm = confusion_matrix(y_test, y_pred)\n",
        "sns.heatmap(cm, annot=True, fmt=\"d\", xticklabels=MELD_LABELS, yticklabels=MELD_LABELS, cmap=\"Blues\")\n",
        "plt.xlabel(\"Predicho\")\n",
        "plt.ylabel(\"Real\")\n",
        "plt.title(\"Matriz de Confusión (Test - Regresión Logística de Fusión)\")\n",
        "plt.show()\n"
      ],
      "metadata": {
        "colab": {
          "base_uri": "https://localhost:8080/",
          "height": 810
        },
        "id": "D55oa0o2s-Ef",
        "outputId": "34804416-bd5f-45ae-c5a6-ea59cc851e1b"
      },
      "execution_count": null,
      "outputs": [
        {
          "output_type": "stream",
          "name": "stdout",
          "text": [
            "              precision    recall  f1-score   support\n",
            "\n",
            "         joy       0.48      0.75      0.59       402\n",
            "     sadness       0.53      0.27      0.36       208\n",
            "       anger       0.46      0.26      0.33       345\n",
            "        fear       0.00      0.00      0.00        50\n",
            "    surprise       0.42      0.54      0.47       281\n",
            "\n",
            "    accuracy                           0.47      1286\n",
            "   macro avg       0.38      0.36      0.35      1286\n",
            "weighted avg       0.45      0.47      0.43      1286\n",
            "\n"
          ]
        },
        {
          "output_type": "stream",
          "name": "stderr",
          "text": [
            "/usr/local/lib/python3.11/dist-packages/sklearn/metrics/_classification.py:1565: UndefinedMetricWarning: Precision is ill-defined and being set to 0.0 in labels with no predicted samples. Use `zero_division` parameter to control this behavior.\n",
            "  _warn_prf(average, modifier, f\"{metric.capitalize()} is\", len(result))\n",
            "/usr/local/lib/python3.11/dist-packages/sklearn/metrics/_classification.py:1565: UndefinedMetricWarning: Precision is ill-defined and being set to 0.0 in labels with no predicted samples. Use `zero_division` parameter to control this behavior.\n",
            "  _warn_prf(average, modifier, f\"{metric.capitalize()} is\", len(result))\n",
            "/usr/local/lib/python3.11/dist-packages/sklearn/metrics/_classification.py:1565: UndefinedMetricWarning: Precision is ill-defined and being set to 0.0 in labels with no predicted samples. Use `zero_division` parameter to control this behavior.\n",
            "  _warn_prf(average, modifier, f\"{metric.capitalize()} is\", len(result))\n"
          ]
        },
        {
          "output_type": "display_data",
          "data": {
            "text/plain": [
              "<Figure size 640x480 with 2 Axes>"
            ],
            "image/png": "[encoded data removed]"
          },
          "metadata": {}
        }
      ]
    }
  ]
}